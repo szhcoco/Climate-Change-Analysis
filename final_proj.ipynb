{
 "cells": [
  {
   "cell_type": "code",
   "execution_count": 17,
   "metadata": {},
   "outputs": [],
   "source": [
    "import pandas as pd\n",
    "\n",
    "import plotly\n",
    "import plotly.express as px\n",
    "import plotly.graph_objects as go\n",
    "import plotly.io as pio\n",
    "pd.options.plotting.backend = 'plotly'\n"
   ]
  },
  {
   "cell_type": "code",
   "execution_count": null,
   "metadata": {},
   "outputs": [],
   "source": []
  },
  {
   "cell_type": "code",
   "execution_count": null,
   "metadata": {},
   "outputs": [],
   "source": []
  },
  {
   "cell_type": "markdown",
   "metadata": {},
   "source": [
    "## Syn1 Final Project \n",
    "\n",
    "### Name: Coco Sun\n",
    "\n",
    "##### In this project, I am going to visually present the climate change through analysis of datasets. Inspired from articles such as 101: Breaking Down Greenhouse Gases that provide statistics of global warming, I want to explore the dataset myself and also to see if there is any other interesting facts about climate crisis. \n",
    "\n",
    "##### I would primarily focus on the exmaination of cliamte change on global surface temperature, and then siwtch to nearer areas in California about the frequency of wildfires throughout the years. \n",
    " "
   ]
  },
  {
   "cell_type": "code",
   "execution_count": null,
   "metadata": {},
   "outputs": [],
   "source": []
  },
  {
   "cell_type": "markdown",
   "metadata": {},
   "source": [
    "The surface temperature is a measure of temperature from the gound. The rising of surface temperature could cause change in sea level and rainfall patterns. It could also has harmful effects on human acitivities such as the farming system. "
   ]
  },
  {
   "cell_type": "code",
   "execution_count": 3,
   "metadata": {},
   "outputs": [
    {
     "data": {
      "text/html": [
       "<div>\n",
       "<style scoped>\n",
       "    .dataframe tbody tr th:only-of-type {\n",
       "        vertical-align: middle;\n",
       "    }\n",
       "\n",
       "    .dataframe tbody tr th {\n",
       "        vertical-align: top;\n",
       "    }\n",
       "\n",
       "    .dataframe thead th {\n",
       "        text-align: right;\n",
       "    }\n",
       "</style>\n",
       "<table border=\"1\" class=\"dataframe\">\n",
       "  <thead>\n",
       "    <tr style=\"text-align: right;\">\n",
       "      <th></th>\n",
       "      <th>Country</th>\n",
       "      <th>Code</th>\n",
       "      <th>Year</th>\n",
       "      <th>Monthly Avg Surface Temp</th>\n",
       "    </tr>\n",
       "  </thead>\n",
       "  <tbody>\n",
       "    <tr>\n",
       "      <th>0</th>\n",
       "      <td>Afghanistan</td>\n",
       "      <td>AFG</td>\n",
       "      <td>1940</td>\n",
       "      <td>11.327695</td>\n",
       "    </tr>\n",
       "    <tr>\n",
       "      <th>12</th>\n",
       "      <td>Afghanistan</td>\n",
       "      <td>AFG</td>\n",
       "      <td>1941</td>\n",
       "      <td>13.324756</td>\n",
       "    </tr>\n",
       "    <tr>\n",
       "      <th>24</th>\n",
       "      <td>Afghanistan</td>\n",
       "      <td>AFG</td>\n",
       "      <td>1942</td>\n",
       "      <td>12.885448</td>\n",
       "    </tr>\n",
       "    <tr>\n",
       "      <th>36</th>\n",
       "      <td>Afghanistan</td>\n",
       "      <td>AFG</td>\n",
       "      <td>1943</td>\n",
       "      <td>11.524769</td>\n",
       "    </tr>\n",
       "    <tr>\n",
       "      <th>48</th>\n",
       "      <td>Afghanistan</td>\n",
       "      <td>AFG</td>\n",
       "      <td>1944</td>\n",
       "      <td>12.143665</td>\n",
       "    </tr>\n",
       "  </tbody>\n",
       "</table>\n",
       "</div>"
      ],
      "text/plain": [
       "        Country Code  Year  Monthly Avg Surface Temp\n",
       "0   Afghanistan  AFG  1940                 11.327695\n",
       "12  Afghanistan  AFG  1941                 13.324756\n",
       "24  Afghanistan  AFG  1942                 12.885448\n",
       "36  Afghanistan  AFG  1943                 11.524769\n",
       "48  Afghanistan  AFG  1944                 12.143665"
      ]
     },
     "execution_count": 3,
     "metadata": {},
     "output_type": "execute_result"
    }
   ],
   "source": [
    "avg_temp = pd.read_csv('data/average-monthly-surface-temperature.csv')\n",
    "avg_temp = avg_temp.rename(columns={'Entity':'Country', 'year':'Year', 'Average surface temperature':'Daily Avg Surface Temp', 'Average surface temperature.1':'Monthly Avg Surface Temp'}).drop(labels=['Day', 'Daily Avg Surface Temp'], axis=1).drop_duplicates()\n",
    "avg_temp.head()\n",
    "\n",
    "# source: https://data.worldbank.org/indicator, https://www.kaggle.com/datasets/samithsachidanandan/average-monthly-surface-temperature-1940-2024"
   ]
  },
  {
   "cell_type": "markdown",
   "metadata": {},
   "source": [
    "I am going to use a choropleth plot to show the change of average surface temperature in each country per year. "
   ]
  },
  {
   "cell_type": "code",
   "execution_count": 4,
   "metadata": {},
   "outputs": [],
   "source": [
    "min_temp = avg_temp['Monthly Avg Surface Temp'].min()\n",
    "max_temp = avg_temp['Monthly Avg Surface Temp'].max()"
   ]
  },
  {
   "cell_type": "markdown",
   "metadata": {},
   "source": [
    "#### 1. Choropleth_map for surface temp"
   ]
  },
  {
   "cell_type": "code",
   "execution_count": 28,
   "metadata": {},
   "outputs": [
    {
     "data": {
      "text/plain": [
       "'C: \\x0cig.html'"
      ]
     },
     "execution_count": 28,
     "metadata": {},
     "output_type": "execute_result"
    }
   ],
   "source": [
    "fig = px.choropleth(avg_temp.dropna(), \n",
    "              locations='Country', \n",
    "              locationmode='country names',\n",
    "              color='Monthly Avg Surface Temp', \n",
    "              color_continuous_scale='Viridis_r',\n",
    "              animation_frame='Year',\n",
    "              \n",
    "              range_color=[min_temp, max_temp],\n",
    "              title='Global Temperature Trends')\n",
    "# to show the plot here: \n",
    "fig.update_layout(height=600, width=800)\n",
    "fig.show()"
   ]
  },
  {
   "cell_type": "code",
   "execution_count": null,
   "metadata": {},
   "outputs": [],
   "source": [
    "# to show the plot in an html file:\n",
    "plotly.offline.plot(fig, filename= 'C: \\fig.html', auto_open=True)"
   ]
  },
  {
   "cell_type": "markdown",
   "metadata": {},
   "source": [
    "From the choropleth, we can see that there is a gradual increase of surface temperature in the past 40 years. To make it clearer, we can directly plot the change of difference in the plot below."
   ]
  },
  {
   "cell_type": "code",
   "execution_count": 6,
   "metadata": {},
   "outputs": [
    {
     "data": {
      "text/html": [
       "<div>\n",
       "<style scoped>\n",
       "    .dataframe tbody tr th:only-of-type {\n",
       "        vertical-align: middle;\n",
       "    }\n",
       "\n",
       "    .dataframe tbody tr th {\n",
       "        vertical-align: top;\n",
       "    }\n",
       "\n",
       "    .dataframe thead th {\n",
       "        text-align: right;\n",
       "    }\n",
       "</style>\n",
       "<table border=\"1\" class=\"dataframe\">\n",
       "  <thead>\n",
       "    <tr style=\"text-align: right;\">\n",
       "      <th></th>\n",
       "      <th>Country</th>\n",
       "      <th>temp_diff_1940_2024</th>\n",
       "      <th>Code</th>\n",
       "    </tr>\n",
       "  </thead>\n",
       "  <tbody>\n",
       "    <tr>\n",
       "      <th>0</th>\n",
       "      <td>Afghanistan</td>\n",
       "      <td>2.165975</td>\n",
       "      <td>AFG</td>\n",
       "    </tr>\n",
       "    <tr>\n",
       "      <th>1</th>\n",
       "      <td>Albania</td>\n",
       "      <td>3.788709</td>\n",
       "      <td>ALB</td>\n",
       "    </tr>\n",
       "    <tr>\n",
       "      <th>2</th>\n",
       "      <td>Algeria</td>\n",
       "      <td>4.042503</td>\n",
       "      <td>DZA</td>\n",
       "    </tr>\n",
       "    <tr>\n",
       "      <th>3</th>\n",
       "      <td>American Samoa</td>\n",
       "      <td>0.883987</td>\n",
       "      <td>ASM</td>\n",
       "    </tr>\n",
       "    <tr>\n",
       "      <th>4</th>\n",
       "      <td>Andorra</td>\n",
       "      <td>3.382685</td>\n",
       "      <td>AND</td>\n",
       "    </tr>\n",
       "    <tr>\n",
       "      <th>...</th>\n",
       "      <td>...</td>\n",
       "      <td>...</td>\n",
       "      <td>...</td>\n",
       "    </tr>\n",
       "    <tr>\n",
       "      <th>190</th>\n",
       "      <td>Vietnam</td>\n",
       "      <td>2.466814</td>\n",
       "      <td>VNM</td>\n",
       "    </tr>\n",
       "    <tr>\n",
       "      <th>191</th>\n",
       "      <td>World</td>\n",
       "      <td>1.405655</td>\n",
       "      <td>OWID_WRL</td>\n",
       "    </tr>\n",
       "    <tr>\n",
       "      <th>192</th>\n",
       "      <td>Yemen</td>\n",
       "      <td>3.425638</td>\n",
       "      <td>YEM</td>\n",
       "    </tr>\n",
       "    <tr>\n",
       "      <th>193</th>\n",
       "      <td>Zambia</td>\n",
       "      <td>1.840073</td>\n",
       "      <td>ZMB</td>\n",
       "    </tr>\n",
       "    <tr>\n",
       "      <th>194</th>\n",
       "      <td>Zimbabwe</td>\n",
       "      <td>1.556628</td>\n",
       "      <td>ZWE</td>\n",
       "    </tr>\n",
       "  </tbody>\n",
       "</table>\n",
       "<p>195 rows × 3 columns</p>\n",
       "</div>"
      ],
      "text/plain": [
       "            Country  temp_diff_1940_2024      Code\n",
       "0       Afghanistan             2.165975       AFG\n",
       "1           Albania             3.788709       ALB\n",
       "2           Algeria             4.042503       DZA\n",
       "3    American Samoa             0.883987       ASM\n",
       "4           Andorra             3.382685       AND\n",
       "..              ...                  ...       ...\n",
       "190         Vietnam             2.466814       VNM\n",
       "191           World             1.405655  OWID_WRL\n",
       "192           Yemen             3.425638       YEM\n",
       "193          Zambia             1.840073       ZMB\n",
       "194        Zimbabwe             1.556628       ZWE\n",
       "\n",
       "[195 rows x 3 columns]"
      ]
     },
     "execution_count": 6,
     "metadata": {},
     "output_type": "execute_result"
    }
   ],
   "source": [
    "iso_alpha = avg_temp[['Country', 'Code']].drop_duplicates()\n",
    "iso_alpha\n",
    "\n",
    "pivot_temp = avg_temp.pivot_table(index='Country', columns='Year', values='Monthly Avg Surface Temp')\n",
    "temp_diff = pd.DataFrame(pivot_temp[2024] - pivot_temp[1940]).reset_index()\n",
    "temp_diff.columns = ['Country', 'temp_diff_1940_2024']\n",
    "temp_diff = temp_diff.merge(iso_alpha, on='Country')\n",
    "temp_diff"
   ]
  },
  {
   "cell_type": "code",
   "execution_count": 7,
   "metadata": {},
   "outputs": [
    {
     "data": {
      "text/plain": [
       "np.float64(0.23721699999999757)"
      ]
     },
     "execution_count": 7,
     "metadata": {},
     "output_type": "execute_result"
    }
   ],
   "source": [
    "temp_diff['temp_diff_1940_2024'].min()"
   ]
  },
  {
   "cell_type": "code",
   "execution_count": 8,
   "metadata": {},
   "outputs": [
    {
     "data": {
      "text/plain": [
       "np.float64(6.2212965)"
      ]
     },
     "execution_count": 8,
     "metadata": {},
     "output_type": "execute_result"
    }
   ],
   "source": [
    "temp_diff['temp_diff_1940_2024'].max()"
   ]
  },
  {
   "cell_type": "markdown",
   "metadata": {},
   "source": [
    "#### 2. 3D Scatter Plot for Surface Temperature Difference"
   ]
  },
  {
   "cell_type": "code",
   "execution_count": 32,
   "metadata": {},
   "outputs": [
    {
     "data": {
      "application/vnd.plotly.v1+json": {
       "config": {
        "plotlyServerURL": "https://plot.ly"
       },
       "data": [
        {
         "customdata": {
          "bdata": "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",
          "dtype": "f8",
          "shape": "195, 1"
         },
         "geo": "geo",
         "hovertemplate": "<b>%{hovertext}</b><br><br>Code=%{location}<br>temp_diff_1940_2024=%{marker.color}<extra></extra>",
         "hovertext": [
          "Afghanistan",
          "Albania",
          "Algeria",
          "American Samoa",
          "Andorra",
          "Angola",
          "Anguilla",
          "Antigua and Barbuda",
          "Argentina",
          "Armenia",
          "Australia",
          "Austria",
          "Azerbaijan",
          "Bahamas",
          "Bahrain",
          "Bangladesh",
          "Belarus",
          "Belgium",
          "Belize",
          "Benin",
          "Bhutan",
          "Bolivia",
          "Bosnia and Herzegovina",
          "Botswana",
          "Brazil",
          "Brunei",
          "Bulgaria",
          "Burkina Faso",
          "Burundi",
          "Cambodia",
          "Cameroon",
          "Canada",
          "Cape Verde",
          "Cayman Islands",
          "Central African Republic",
          "Chad",
          "Chile",
          "China",
          "Colombia",
          "Comoros",
          "Congo",
          "Cook Islands",
          "Costa Rica",
          "Cote d'Ivoire",
          "Croatia",
          "Cuba",
          "Cyprus",
          "Czechia",
          "Democratic Republic of Congo",
          "Denmark",
          "Djibouti",
          "Dominican Republic",
          "East Timor",
          "Ecuador",
          "Egypt",
          "El Salvador",
          "Equatorial Guinea",
          "Eritrea",
          "Estonia",
          "Eswatini",
          "Ethiopia",
          "Falkland Islands",
          "Faroe Islands",
          "Fiji",
          "Finland",
          "France",
          "French Polynesia",
          "Gabon",
          "Gambia",
          "Georgia",
          "Germany",
          "Ghana",
          "Greece",
          "Greenland",
          "Guatemala",
          "Guinea",
          "Guinea-Bissau",
          "Guyana",
          "Haiti",
          "Heard Island and McDonald Islands",
          "Honduras",
          "Hong Kong",
          "Hungary",
          "Iceland",
          "India",
          "Indonesia",
          "Iran",
          "Iraq",
          "Ireland",
          "Isle of Man",
          "Israel",
          "Italy",
          "Jamaica",
          "Japan",
          "Jordan",
          "Kazakhstan",
          "Kenya",
          "Kiribati",
          "Kosovo",
          "Kuwait",
          "Kyrgyzstan",
          "Laos",
          "Latvia",
          "Lebanon",
          "Lesotho",
          "Liberia",
          "Libya",
          "Lithuania",
          "Luxembourg",
          "Madagascar",
          "Malawi",
          "Malaysia",
          "Mali",
          "Mauritania",
          "Mauritius",
          "Mexico",
          "Moldova",
          "Mongolia",
          "Montenegro",
          "Morocco",
          "Mozambique",
          "Myanmar",
          "Namibia",
          "Nepal",
          "Netherlands",
          "New Caledonia",
          "New Zealand",
          "Nicaragua",
          "Niger",
          "Nigeria",
          "North Korea",
          "North Macedonia",
          "Norway",
          "Oman",
          "Pakistan",
          "Palestine",
          "Panama",
          "Papua New Guinea",
          "Paraguay",
          "Peru",
          "Philippines",
          "Poland",
          "Portugal",
          "Puerto Rico",
          "Qatar",
          "Romania",
          "Russia",
          "Rwanda",
          "Saint Helena",
          "Saint Vincent and the Grenadines",
          "Samoa",
          "Sao Tome and Principe",
          "Saudi Arabia",
          "Senegal",
          "Serbia",
          "Seychelles",
          "Sierra Leone",
          "Slovakia",
          "Slovenia",
          "Solomon Islands",
          "Somalia",
          "South Africa",
          "South Georgia and the South Sandwich Islands",
          "South Korea",
          "South Sudan",
          "Spain",
          "Sri Lanka",
          "Sudan",
          "Suriname",
          "Sweden",
          "Switzerland",
          "Syria",
          "Tajikistan",
          "Tanzania",
          "Thailand",
          "Togo",
          "Trinidad and Tobago",
          "Tunisia",
          "Turkey",
          "Turkmenistan",
          "Uganda",
          "Ukraine",
          "United Arab Emirates",
          "United Kingdom",
          "United States",
          "United States Virgin Islands",
          "Uruguay",
          "Uzbekistan",
          "Vanuatu",
          "Venezuela",
          "Vietnam",
          "World",
          "Yemen",
          "Zambia",
          "Zimbabwe"
         ],
         "legendgroup": "",
         "locations": [
          "AFG",
          "ALB",
          "DZA",
          "ASM",
          "AND",
          "AGO",
          "AIA",
          "ATG",
          "ARG",
          "ARM",
          "AUS",
          "AUT",
          "AZE",
          "BHS",
          "BHR",
          "BGD",
          "BLR",
          "BEL",
          "BLZ",
          "BEN",
          "BTN",
          "BOL",
          "BIH",
          "BWA",
          "BRA",
          "BRN",
          "BGR",
          "BFA",
          "BDI",
          "KHM",
          "CMR",
          "CAN",
          "CPV",
          "CYM",
          "CAF",
          "TCD",
          "CHL",
          "CHN",
          "COL",
          "COM",
          "COG",
          "COK",
          "CRI",
          "CIV",
          "HRV",
          "CUB",
          "CYP",
          "CZE",
          "COD",
          "DNK",
          "DJI",
          "DOM",
          "TLS",
          "ECU",
          "EGY",
          "SLV",
          "GNQ",
          "ERI",
          "EST",
          "SWZ",
          "ETH",
          "FLK",
          "FRO",
          "FJI",
          "FIN",
          "FRA",
          "PYF",
          "GAB",
          "GMB",
          "GEO",
          "DEU",
          "GHA",
          "GRC",
          "GRL",
          "GTM",
          "GIN",
          "GNB",
          "GUY",
          "HTI",
          "HMD",
          "HND",
          "HKG",
          "HUN",
          "ISL",
          "IND",
          "IDN",
          "IRN",
          "IRQ",
          "IRL",
          "IMN",
          "ISR",
          "ITA",
          "JAM",
          "JPN",
          "JOR",
          "KAZ",
          "KEN",
          "KIR",
          "OWID_KOS",
          "KWT",
          "KGZ",
          "LAO",
          "LVA",
          "LBN",
          "LSO",
          "LBR",
          "LBY",
          "LTU",
          "LUX",
          "MDG",
          "MWI",
          "MYS",
          "MLI",
          "MRT",
          "MUS",
          "MEX",
          "MDA",
          "MNG",
          "MNE",
          "MAR",
          "MOZ",
          "MMR",
          "NAM",
          "NPL",
          "NLD",
          "NCL",
          "NZL",
          "NIC",
          "NER",
          "NGA",
          "PRK",
          "MKD",
          "NOR",
          "OMN",
          "PAK",
          "PSE",
          "PAN",
          "PNG",
          "PRY",
          "PER",
          "PHL",
          "POL",
          "PRT",
          "PRI",
          "QAT",
          "ROU",
          "RUS",
          "RWA",
          "SHN",
          "VCT",
          "WSM",
          "STP",
          "SAU",
          "SEN",
          "SRB",
          "SYC",
          "SLE",
          "SVK",
          "SVN",
          "SLB",
          "SOM",
          "ZAF",
          "SGS",
          "KOR",
          "SSD",
          "ESP",
          "LKA",
          "SDN",
          "SUR",
          "SWE",
          "CHE",
          "SYR",
          "TJK",
          "TZA",
          "THA",
          "TGO",
          "TTO",
          "TUN",
          "TUR",
          "TKM",
          "UGA",
          "UKR",
          "ARE",
          "GBR",
          "USA",
          "VIR",
          "URY",
          "UZB",
          "VUT",
          "VEN",
          "VNM",
          "OWID_WRL",
          "YEM",
          "ZMB",
          "ZWE"
         ],
         "marker": {
          "color": {
           "bdata": "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",
           "dtype": "f8"
          },
          "coloraxis": "coloraxis",
          "opacity": 0.9,
          "symbol": "circle"
         },
         "mode": "markers",
         "name": "",
         "showlegend": false,
         "type": "scattergeo"
        }
       ],
       "layout": {
        "coloraxis": {
         "colorbar": {
          "title": {
           "text": "temp_diff_1940_2024"
          }
         },
         "colorscale": [
          [
           0,
           "#fde725"
          ],
          [
           0.1111111111111111,
           "#b5de2b"
          ],
          [
           0.2222222222222222,
           "#6ece58"
          ],
          [
           0.3333333333333333,
           "#35b779"
          ],
          [
           0.4444444444444444,
           "#1f9e89"
          ],
          [
           0.5555555555555556,
           "#26828e"
          ],
          [
           0.6666666666666666,
           "#31688e"
          ],
          [
           0.7777777777777778,
           "#3e4989"
          ],
          [
           0.8888888888888888,
           "#482878"
          ],
          [
           1,
           "#440154"
          ]
         ]
        },
        "geo": {
         "center": {},
         "domain": {
          "x": [
           0,
           1
          ],
          "y": [
           0,
           1
          ]
         },
         "projection": {
          "type": "orthographic"
         }
        },
        "height": 600,
        "legend": {
         "tracegroupgap": 0
        },
        "template": {
         "data": {
          "bar": [
           {
            "error_x": {
             "color": "#2a3f5f"
            },
            "error_y": {
             "color": "#2a3f5f"
            },
            "marker": {
             "line": {
              "color": "#E5ECF6",
              "width": 0.5
             },
             "pattern": {
              "fillmode": "overlay",
              "size": 10,
              "solidity": 0.2
             }
            },
            "type": "bar"
           }
          ],
          "barpolar": [
           {
            "marker": {
             "line": {
              "color": "#E5ECF6",
              "width": 0.5
             },
             "pattern": {
              "fillmode": "overlay",
              "size": 10,
              "solidity": 0.2
             }
            },
            "type": "barpolar"
           }
          ],
          "carpet": [
           {
            "aaxis": {
             "endlinecolor": "#2a3f5f",
             "gridcolor": "white",
             "linecolor": "white",
             "minorgridcolor": "white",
             "startlinecolor": "#2a3f5f"
            },
            "baxis": {
             "endlinecolor": "#2a3f5f",
             "gridcolor": "white",
             "linecolor": "white",
             "minorgridcolor": "white",
             "startlinecolor": "#2a3f5f"
            },
            "type": "carpet"
           }
          ],
          "choropleth": [
           {
            "colorbar": {
             "outlinewidth": 0,
             "ticks": ""
            },
            "type": "choropleth"
           }
          ],
          "contour": [
           {
            "colorbar": {
             "outlinewidth": 0,
             "ticks": ""
            },
            "colorscale": [
             [
              0,
              "#0d0887"
             ],
             [
              0.1111111111111111,
              "#46039f"
             ],
             [
              0.2222222222222222,
              "#7201a8"
             ],
             [
              0.3333333333333333,
              "#9c179e"
             ],
             [
              0.4444444444444444,
              "#bd3786"
             ],
             [
              0.5555555555555556,
              "#d8576b"
             ],
             [
              0.6666666666666666,
              "#ed7953"
             ],
             [
              0.7777777777777778,
              "#fb9f3a"
             ],
             [
              0.8888888888888888,
              "#fdca26"
             ],
             [
              1,
              "#f0f921"
             ]
            ],
            "type": "contour"
           }
          ],
          "contourcarpet": [
           {
            "colorbar": {
             "outlinewidth": 0,
             "ticks": ""
            },
            "type": "contourcarpet"
           }
          ],
          "heatmap": [
           {
            "colorbar": {
             "outlinewidth": 0,
             "ticks": ""
            },
            "colorscale": [
             [
              0,
              "#0d0887"
             ],
             [
              0.1111111111111111,
              "#46039f"
             ],
             [
              0.2222222222222222,
              "#7201a8"
             ],
             [
              0.3333333333333333,
              "#9c179e"
             ],
             [
              0.4444444444444444,
              "#bd3786"
             ],
             [
              0.5555555555555556,
              "#d8576b"
             ],
             [
              0.6666666666666666,
              "#ed7953"
             ],
             [
              0.7777777777777778,
              "#fb9f3a"
             ],
             [
              0.8888888888888888,
              "#fdca26"
             ],
             [
              1,
              "#f0f921"
             ]
            ],
            "type": "heatmap"
           }
          ],
          "histogram": [
           {
            "marker": {
             "pattern": {
              "fillmode": "overlay",
              "size": 10,
              "solidity": 0.2
             }
            },
            "type": "histogram"
           }
          ],
          "histogram2d": [
           {
            "colorbar": {
             "outlinewidth": 0,
             "ticks": ""
            },
            "colorscale": [
             [
              0,
              "#0d0887"
             ],
             [
              0.1111111111111111,
              "#46039f"
             ],
             [
              0.2222222222222222,
              "#7201a8"
             ],
             [
              0.3333333333333333,
              "#9c179e"
             ],
             [
              0.4444444444444444,
              "#bd3786"
             ],
             [
              0.5555555555555556,
              "#d8576b"
             ],
             [
              0.6666666666666666,
              "#ed7953"
             ],
             [
              0.7777777777777778,
              "#fb9f3a"
             ],
             [
              0.8888888888888888,
              "#fdca26"
             ],
             [
              1,
              "#f0f921"
             ]
            ],
            "type": "histogram2d"
           }
          ],
          "histogram2dcontour": [
           {
            "colorbar": {
             "outlinewidth": 0,
             "ticks": ""
            },
            "colorscale": [
             [
              0,
              "#0d0887"
             ],
             [
              0.1111111111111111,
              "#46039f"
             ],
             [
              0.2222222222222222,
              "#7201a8"
             ],
             [
              0.3333333333333333,
              "#9c179e"
             ],
             [
              0.4444444444444444,
              "#bd3786"
             ],
             [
              0.5555555555555556,
              "#d8576b"
             ],
             [
              0.6666666666666666,
              "#ed7953"
             ],
             [
              0.7777777777777778,
              "#fb9f3a"
             ],
             [
              0.8888888888888888,
              "#fdca26"
             ],
             [
              1,
              "#f0f921"
             ]
            ],
            "type": "histogram2dcontour"
           }
          ],
          "mesh3d": [
           {
            "colorbar": {
             "outlinewidth": 0,
             "ticks": ""
            },
            "type": "mesh3d"
           }
          ],
          "parcoords": [
           {
            "line": {
             "colorbar": {
              "outlinewidth": 0,
              "ticks": ""
             }
            },
            "type": "parcoords"
           }
          ],
          "pie": [
           {
            "automargin": true,
            "type": "pie"
           }
          ],
          "scatter": [
           {
            "fillpattern": {
             "fillmode": "overlay",
             "size": 10,
             "solidity": 0.2
            },
            "type": "scatter"
           }
          ],
          "scatter3d": [
           {
            "line": {
             "colorbar": {
              "outlinewidth": 0,
              "ticks": ""
             }
            },
            "marker": {
             "colorbar": {
              "outlinewidth": 0,
              "ticks": ""
             }
            },
            "type": "scatter3d"
           }
          ],
          "scattercarpet": [
           {
            "marker": {
             "colorbar": {
              "outlinewidth": 0,
              "ticks": ""
             }
            },
            "type": "scattercarpet"
           }
          ],
          "scattergeo": [
           {
            "marker": {
             "colorbar": {
              "outlinewidth": 0,
              "ticks": ""
             }
            },
            "type": "scattergeo"
           }
          ],
          "scattergl": [
           {
            "marker": {
             "colorbar": {
              "outlinewidth": 0,
              "ticks": ""
             }
            },
            "type": "scattergl"
           }
          ],
          "scattermap": [
           {
            "marker": {
             "colorbar": {
              "outlinewidth": 0,
              "ticks": ""
             }
            },
            "type": "scattermap"
           }
          ],
          "scattermapbox": [
           {
            "marker": {
             "colorbar": {
              "outlinewidth": 0,
              "ticks": ""
             }
            },
            "type": "scattermapbox"
           }
          ],
          "scatterpolar": [
           {
            "marker": {
             "colorbar": {
              "outlinewidth": 0,
              "ticks": ""
             }
            },
            "type": "scatterpolar"
           }
          ],
          "scatterpolargl": [
           {
            "marker": {
             "colorbar": {
              "outlinewidth": 0,
              "ticks": ""
             }
            },
            "type": "scatterpolargl"
           }
          ],
          "scatterternary": [
           {
            "marker": {
             "colorbar": {
              "outlinewidth": 0,
              "ticks": ""
             }
            },
            "type": "scatterternary"
           }
          ],
          "surface": [
           {
            "colorbar": {
             "outlinewidth": 0,
             "ticks": ""
            },
            "colorscale": [
             [
              0,
              "#0d0887"
             ],
             [
              0.1111111111111111,
              "#46039f"
             ],
             [
              0.2222222222222222,
              "#7201a8"
             ],
             [
              0.3333333333333333,
              "#9c179e"
             ],
             [
              0.4444444444444444,
              "#bd3786"
             ],
             [
              0.5555555555555556,
              "#d8576b"
             ],
             [
              0.6666666666666666,
              "#ed7953"
             ],
             [
              0.7777777777777778,
              "#fb9f3a"
             ],
             [
              0.8888888888888888,
              "#fdca26"
             ],
             [
              1,
              "#f0f921"
             ]
            ],
            "type": "surface"
           }
          ],
          "table": [
           {
            "cells": {
             "fill": {
              "color": "#EBF0F8"
             },
             "line": {
              "color": "white"
             }
            },
            "header": {
             "fill": {
              "color": "#C8D4E3"
             },
             "line": {
              "color": "white"
             }
            },
            "type": "table"
           }
          ]
         },
         "layout": {
          "annotationdefaults": {
           "arrowcolor": "#2a3f5f",
           "arrowhead": 0,
           "arrowwidth": 1
          },
          "autotypenumbers": "strict",
          "coloraxis": {
           "colorbar": {
            "outlinewidth": 0,
            "ticks": ""
           }
          },
          "colorscale": {
           "diverging": [
            [
             0,
             "#8e0152"
            ],
            [
             0.1,
             "#c51b7d"
            ],
            [
             0.2,
             "#de77ae"
            ],
            [
             0.3,
             "#f1b6da"
            ],
            [
             0.4,
             "#fde0ef"
            ],
            [
             0.5,
             "#f7f7f7"
            ],
            [
             0.6,
             "#e6f5d0"
            ],
            [
             0.7,
             "#b8e186"
            ],
            [
             0.8,
             "#7fbc41"
            ],
            [
             0.9,
             "#4d9221"
            ],
            [
             1,
             "#276419"
            ]
           ],
           "sequential": [
            [
             0,
             "#0d0887"
            ],
            [
             0.1111111111111111,
             "#46039f"
            ],
            [
             0.2222222222222222,
             "#7201a8"
            ],
            [
             0.3333333333333333,
             "#9c179e"
            ],
            [
             0.4444444444444444,
             "#bd3786"
            ],
            [
             0.5555555555555556,
             "#d8576b"
            ],
            [
             0.6666666666666666,
             "#ed7953"
            ],
            [
             0.7777777777777778,
             "#fb9f3a"
            ],
            [
             0.8888888888888888,
             "#fdca26"
            ],
            [
             1,
             "#f0f921"
            ]
           ],
           "sequentialminus": [
            [
             0,
             "#0d0887"
            ],
            [
             0.1111111111111111,
             "#46039f"
            ],
            [
             0.2222222222222222,
             "#7201a8"
            ],
            [
             0.3333333333333333,
             "#9c179e"
            ],
            [
             0.4444444444444444,
             "#bd3786"
            ],
            [
             0.5555555555555556,
             "#d8576b"
            ],
            [
             0.6666666666666666,
             "#ed7953"
            ],
            [
             0.7777777777777778,
             "#fb9f3a"
            ],
            [
             0.8888888888888888,
             "#fdca26"
            ],
            [
             1,
             "#f0f921"
            ]
           ]
          },
          "colorway": [
           "#636efa",
           "#EF553B",
           "#00cc96",
           "#ab63fa",
           "#FFA15A",
           "#19d3f3",
           "#FF6692",
           "#B6E880",
           "#FF97FF",
           "#FECB52"
          ],
          "font": {
           "color": "#2a3f5f"
          },
          "geo": {
           "bgcolor": "white",
           "lakecolor": "white",
           "landcolor": "#E5ECF6",
           "showlakes": true,
           "showland": true,
           "subunitcolor": "white"
          },
          "hoverlabel": {
           "align": "left"
          },
          "hovermode": "closest",
          "mapbox": {
           "style": "light"
          },
          "paper_bgcolor": "white",
          "plot_bgcolor": "#E5ECF6",
          "polar": {
           "angularaxis": {
            "gridcolor": "white",
            "linecolor": "white",
            "ticks": ""
           },
           "bgcolor": "#E5ECF6",
           "radialaxis": {
            "gridcolor": "white",
            "linecolor": "white",
            "ticks": ""
           }
          },
          "scene": {
           "xaxis": {
            "backgroundcolor": "#E5ECF6",
            "gridcolor": "white",
            "gridwidth": 2,
            "linecolor": "white",
            "showbackground": true,
            "ticks": "",
            "zerolinecolor": "white"
           },
           "yaxis": {
            "backgroundcolor": "#E5ECF6",
            "gridcolor": "white",
            "gridwidth": 2,
            "linecolor": "white",
            "showbackground": true,
            "ticks": "",
            "zerolinecolor": "white"
           },
           "zaxis": {
            "backgroundcolor": "#E5ECF6",
            "gridcolor": "white",
            "gridwidth": 2,
            "linecolor": "white",
            "showbackground": true,
            "ticks": "",
            "zerolinecolor": "white"
           }
          },
          "shapedefaults": {
           "line": {
            "color": "#2a3f5f"
           }
          },
          "ternary": {
           "aaxis": {
            "gridcolor": "white",
            "linecolor": "white",
            "ticks": ""
           },
           "baxis": {
            "gridcolor": "white",
            "linecolor": "white",
            "ticks": ""
           },
           "bgcolor": "#E5ECF6",
           "caxis": {
            "gridcolor": "white",
            "linecolor": "white",
            "ticks": ""
           }
          },
          "title": {
           "x": 0.05
          },
          "xaxis": {
           "automargin": true,
           "gridcolor": "white",
           "linecolor": "white",
           "ticks": "",
           "title": {
            "standoff": 15
           },
           "zerolinecolor": "white",
           "zerolinewidth": 2
          },
          "yaxis": {
           "automargin": true,
           "gridcolor": "white",
           "linecolor": "white",
           "ticks": "",
           "title": {
            "standoff": 15
           },
           "zerolinecolor": "white",
           "zerolinewidth": 2
          }
         }
        },
        "title": {
         "text": "Temperature Increase 1940-2024"
        },
        "width": 800
       }
      }
     },
     "metadata": {},
     "output_type": "display_data"
    }
   ],
   "source": [
    "temp_diff_fig = px.scatter_geo(temp_diff, \n",
    "               locations='Code',\n",
    "               projection='orthographic',\n",
    "               color='temp_diff_1940_2024',\n",
    "               opacity=0.9,\n",
    "               hover_name='Country',\n",
    "               hover_data=['temp_diff_1940_2024'],\n",
    "               color_continuous_scale='Viridis_r',\n",
    "               title='Temperature Increase 1940-2024')\n",
    "\n",
    "\n",
    "# to show the plot here: \n",
    "temp_diff_fig.update_layout(height=600, width=800)\n",
    "temp_diff_fig.show()"
   ]
  },
  {
   "cell_type": "code",
   "execution_count": 33,
   "metadata": {},
   "outputs": [
    {
     "data": {
      "text/plain": [
       "'C: \\temp_diff_fig.html'"
      ]
     },
     "execution_count": 33,
     "metadata": {},
     "output_type": "execute_result"
    }
   ],
   "source": [
    "# to show the plot in html file:\n",
    "plotly.offline.plot(temp_diff_fig, filename= 'C: \\temp_diff_fig.html', auto_open=True)"
   ]
  },
  {
   "cell_type": "markdown",
   "metadata": {},
   "source": [
    "Then I am trying to examine the frequency of wildfires happened in California. The most recent dataset I could find contain information from 2014-2023. "
   ]
  },
  {
   "cell_type": "code",
   "execution_count": 10,
   "metadata": {},
   "outputs": [
    {
     "data": {
      "text/html": [
       "<div>\n",
       "<style scoped>\n",
       "    .dataframe tbody tr th:only-of-type {\n",
       "        vertical-align: middle;\n",
       "    }\n",
       "\n",
       "    .dataframe tbody tr th {\n",
       "        vertical-align: top;\n",
       "    }\n",
       "\n",
       "    .dataframe thead th {\n",
       "        text-align: right;\n",
       "    }\n",
       "</style>\n",
       "<table border=\"1\" class=\"dataframe\">\n",
       "  <thead>\n",
       "    <tr style=\"text-align: right;\">\n",
       "      <th></th>\n",
       "      <th>Incident_ID</th>\n",
       "      <th>Date</th>\n",
       "      <th>Location</th>\n",
       "      <th>Area_Burned (Acres)</th>\n",
       "      <th>Homes_Destroyed</th>\n",
       "      <th>Businesses_Destroyed</th>\n",
       "      <th>Vehicles_Damaged</th>\n",
       "      <th>Injuries</th>\n",
       "      <th>Fatalities</th>\n",
       "      <th>Estimated_Financial_Loss (Million $)</th>\n",
       "      <th>Cause</th>\n",
       "    </tr>\n",
       "  </thead>\n",
       "  <tbody>\n",
       "    <tr>\n",
       "      <th>0</th>\n",
       "      <td>INC1000</td>\n",
       "      <td>2020-11-22</td>\n",
       "      <td>Sonoma</td>\n",
       "      <td>14048</td>\n",
       "      <td>763</td>\n",
       "      <td>474</td>\n",
       "      <td>235</td>\n",
       "      <td>70</td>\n",
       "      <td>19</td>\n",
       "      <td>2270.57</td>\n",
       "      <td>Lightning</td>\n",
       "    </tr>\n",
       "    <tr>\n",
       "      <th>1</th>\n",
       "      <td>INC1001</td>\n",
       "      <td>2021-09-23</td>\n",
       "      <td>Sonoma</td>\n",
       "      <td>33667</td>\n",
       "      <td>1633</td>\n",
       "      <td>4</td>\n",
       "      <td>263</td>\n",
       "      <td>100</td>\n",
       "      <td>2</td>\n",
       "      <td>1381.14</td>\n",
       "      <td>Lightning</td>\n",
       "    </tr>\n",
       "    <tr>\n",
       "      <th>2</th>\n",
       "      <td>INC1002</td>\n",
       "      <td>2022-02-10</td>\n",
       "      <td>Shasta</td>\n",
       "      <td>26394</td>\n",
       "      <td>915</td>\n",
       "      <td>291</td>\n",
       "      <td>31</td>\n",
       "      <td>50</td>\n",
       "      <td>6</td>\n",
       "      <td>2421.96</td>\n",
       "      <td>Human Activity</td>\n",
       "    </tr>\n",
       "    <tr>\n",
       "      <th>3</th>\n",
       "      <td>INC1003</td>\n",
       "      <td>2021-05-17</td>\n",
       "      <td>Sonoma</td>\n",
       "      <td>20004</td>\n",
       "      <td>1220</td>\n",
       "      <td>128</td>\n",
       "      <td>34</td>\n",
       "      <td>28</td>\n",
       "      <td>0</td>\n",
       "      <td>3964.16</td>\n",
       "      <td>Unknown</td>\n",
       "    </tr>\n",
       "    <tr>\n",
       "      <th>4</th>\n",
       "      <td>INC1004</td>\n",
       "      <td>2021-09-22</td>\n",
       "      <td>Sonoma</td>\n",
       "      <td>40320</td>\n",
       "      <td>794</td>\n",
       "      <td>469</td>\n",
       "      <td>147</td>\n",
       "      <td>0</td>\n",
       "      <td>15</td>\n",
       "      <td>1800.09</td>\n",
       "      <td>Unknown</td>\n",
       "    </tr>\n",
       "  </tbody>\n",
       "</table>\n",
       "</div>"
      ],
      "text/plain": [
       "  Incident_ID        Date Location  Area_Burned (Acres)  Homes_Destroyed  \\\n",
       "0     INC1000  2020-11-22   Sonoma                14048              763   \n",
       "1     INC1001  2021-09-23   Sonoma                33667             1633   \n",
       "2     INC1002  2022-02-10   Shasta                26394              915   \n",
       "3     INC1003  2021-05-17   Sonoma                20004             1220   \n",
       "4     INC1004  2021-09-22   Sonoma                40320              794   \n",
       "\n",
       "   Businesses_Destroyed  Vehicles_Damaged  Injuries  Fatalities  \\\n",
       "0                   474               235        70          19   \n",
       "1                     4               263       100           2   \n",
       "2                   291                31        50           6   \n",
       "3                   128                34        28           0   \n",
       "4                   469               147         0          15   \n",
       "\n",
       "   Estimated_Financial_Loss (Million $)           Cause  \n",
       "0                               2270.57       Lightning  \n",
       "1                               1381.14       Lightning  \n",
       "2                               2421.96  Human Activity  \n",
       "3                               3964.16         Unknown  \n",
       "4                               1800.09         Unknown  "
      ]
     },
     "execution_count": 10,
     "metadata": {},
     "output_type": "execute_result"
    }
   ],
   "source": [
    "wildfires_cali = pd.read_csv('data/California Wildfire Damage.csv')\n",
    "wildfires_cali['Location'] = wildfires_cali['Location'].str.replace('County', \"\").str.strip()\n",
    "wildfires_cali.head()\n",
    "\n",
    "# Source: https://www.kaggle.com/datasets/vivekattri/california-wildfire-damage-2014-feb2025"
   ]
  },
  {
   "cell_type": "code",
   "execution_count": 11,
   "metadata": {},
   "outputs": [
    {
     "data": {
      "text/html": [
       "<div>\n",
       "<style scoped>\n",
       "    .dataframe tbody tr th:only-of-type {\n",
       "        vertical-align: middle;\n",
       "    }\n",
       "\n",
       "    .dataframe tbody tr th {\n",
       "        vertical-align: top;\n",
       "    }\n",
       "\n",
       "    .dataframe thead th {\n",
       "        text-align: right;\n",
       "    }\n",
       "</style>\n",
       "<table border=\"1\" class=\"dataframe\">\n",
       "  <thead>\n",
       "    <tr style=\"text-align: right;\">\n",
       "      <th></th>\n",
       "      <th>Name</th>\n",
       "      <th>Latitude</th>\n",
       "      <th>Longitude</th>\n",
       "    </tr>\n",
       "  </thead>\n",
       "  <tbody>\n",
       "    <tr>\n",
       "      <th>0</th>\n",
       "      <td>Adelanto</td>\n",
       "      <td>34.582769</td>\n",
       "      <td>-117.409214</td>\n",
       "    </tr>\n",
       "    <tr>\n",
       "      <th>1</th>\n",
       "      <td>Agoura Hills</td>\n",
       "      <td>34.153339</td>\n",
       "      <td>-118.761675</td>\n",
       "    </tr>\n",
       "    <tr>\n",
       "      <th>2</th>\n",
       "      <td>Alameda</td>\n",
       "      <td>37.765206</td>\n",
       "      <td>-122.241636</td>\n",
       "    </tr>\n",
       "    <tr>\n",
       "      <th>3</th>\n",
       "      <td>Albany</td>\n",
       "      <td>37.886869</td>\n",
       "      <td>-122.297747</td>\n",
       "    </tr>\n",
       "    <tr>\n",
       "      <th>4</th>\n",
       "      <td>Alhambra</td>\n",
       "      <td>34.095286</td>\n",
       "      <td>-118.127014</td>\n",
       "    </tr>\n",
       "  </tbody>\n",
       "</table>\n",
       "</div>"
      ],
      "text/plain": [
       "           Name   Latitude   Longitude\n",
       "0      Adelanto  34.582769 -117.409214\n",
       "1  Agoura Hills  34.153339 -118.761675\n",
       "2       Alameda  37.765206 -122.241636\n",
       "3        Albany  37.886869 -122.297747\n",
       "4      Alhambra  34.095286 -118.127014"
      ]
     },
     "execution_count": 11,
     "metadata": {},
     "output_type": "execute_result"
    }
   ],
   "source": [
    "cali_lat_lon = pd.read_csv('data/cal_cities_lat_long.csv')\n",
    "cali_lat_lon.head()\n",
    "\n",
    "# source: https://www.kaggle.com/datasets/camnugent/california-housing-feature-engineering"
   ]
  },
  {
   "cell_type": "code",
   "execution_count": 12,
   "metadata": {},
   "outputs": [
    {
     "data": {
      "text/html": [
       "<div>\n",
       "<style scoped>\n",
       "    .dataframe tbody tr th:only-of-type {\n",
       "        vertical-align: middle;\n",
       "    }\n",
       "\n",
       "    .dataframe tbody tr th {\n",
       "        vertical-align: top;\n",
       "    }\n",
       "\n",
       "    .dataframe thead th {\n",
       "        text-align: right;\n",
       "    }\n",
       "</style>\n",
       "<table border=\"1\" class=\"dataframe\">\n",
       "  <thead>\n",
       "    <tr style=\"text-align: right;\">\n",
       "      <th></th>\n",
       "      <th>Incident_ID</th>\n",
       "      <th>Date</th>\n",
       "      <th>Location</th>\n",
       "      <th>Area_Burned (Acres)</th>\n",
       "      <th>Homes_Destroyed</th>\n",
       "      <th>Businesses_Destroyed</th>\n",
       "      <th>Vehicles_Damaged</th>\n",
       "      <th>Injuries</th>\n",
       "      <th>Fatalities</th>\n",
       "      <th>Estimated_Financial_Loss (Million $)</th>\n",
       "      <th>Cause</th>\n",
       "      <th>Name</th>\n",
       "      <th>Latitude</th>\n",
       "      <th>Longitude</th>\n",
       "      <th>Year</th>\n",
       "    </tr>\n",
       "  </thead>\n",
       "  <tbody>\n",
       "    <tr>\n",
       "      <th>58</th>\n",
       "      <td>INC1058</td>\n",
       "      <td>2014-02-03</td>\n",
       "      <td>Santa Barbara</td>\n",
       "      <td>47674</td>\n",
       "      <td>1186</td>\n",
       "      <td>438</td>\n",
       "      <td>71</td>\n",
       "      <td>54</td>\n",
       "      <td>11</td>\n",
       "      <td>2580.87</td>\n",
       "      <td>Unknown</td>\n",
       "      <td>Santa Barbara</td>\n",
       "      <td>34.420831</td>\n",
       "      <td>-119.698189</td>\n",
       "      <td>2014</td>\n",
       "    </tr>\n",
       "    <tr>\n",
       "      <th>61</th>\n",
       "      <td>INC1061</td>\n",
       "      <td>2014-03-28</td>\n",
       "      <td>Los Angeles</td>\n",
       "      <td>11162</td>\n",
       "      <td>544</td>\n",
       "      <td>223</td>\n",
       "      <td>196</td>\n",
       "      <td>100</td>\n",
       "      <td>8</td>\n",
       "      <td>85.57</td>\n",
       "      <td>Unknown</td>\n",
       "      <td>Los Angeles</td>\n",
       "      <td>34.052233</td>\n",
       "      <td>-118.243686</td>\n",
       "      <td>2014</td>\n",
       "    </tr>\n",
       "    <tr>\n",
       "      <th>17</th>\n",
       "      <td>INC1017</td>\n",
       "      <td>2014-04-16</td>\n",
       "      <td>Sonoma</td>\n",
       "      <td>25094</td>\n",
       "      <td>1014</td>\n",
       "      <td>288</td>\n",
       "      <td>269</td>\n",
       "      <td>30</td>\n",
       "      <td>12</td>\n",
       "      <td>268.91</td>\n",
       "      <td>Human Activity</td>\n",
       "      <td>Sonoma</td>\n",
       "      <td>38.291858</td>\n",
       "      <td>-122.458036</td>\n",
       "      <td>2014</td>\n",
       "    </tr>\n",
       "    <tr>\n",
       "      <th>45</th>\n",
       "      <td>INC1045</td>\n",
       "      <td>2014-05-13</td>\n",
       "      <td>Sonoma</td>\n",
       "      <td>21703</td>\n",
       "      <td>735</td>\n",
       "      <td>279</td>\n",
       "      <td>294</td>\n",
       "      <td>3</td>\n",
       "      <td>1</td>\n",
       "      <td>1305.34</td>\n",
       "      <td>Human Activity</td>\n",
       "      <td>Sonoma</td>\n",
       "      <td>38.291858</td>\n",
       "      <td>-122.458036</td>\n",
       "      <td>2014</td>\n",
       "    </tr>\n",
       "    <tr>\n",
       "      <th>47</th>\n",
       "      <td>INC1047</td>\n",
       "      <td>2014-05-16</td>\n",
       "      <td>San Diego</td>\n",
       "      <td>28661</td>\n",
       "      <td>276</td>\n",
       "      <td>313</td>\n",
       "      <td>89</td>\n",
       "      <td>7</td>\n",
       "      <td>10</td>\n",
       "      <td>3485.12</td>\n",
       "      <td>Unknown</td>\n",
       "      <td>San Diego</td>\n",
       "      <td>32.715328</td>\n",
       "      <td>-117.157256</td>\n",
       "      <td>2014</td>\n",
       "    </tr>\n",
       "  </tbody>\n",
       "</table>\n",
       "</div>"
      ],
      "text/plain": [
       "   Incident_ID        Date       Location  Area_Burned (Acres)  \\\n",
       "58     INC1058  2014-02-03  Santa Barbara                47674   \n",
       "61     INC1061  2014-03-28    Los Angeles                11162   \n",
       "17     INC1017  2014-04-16         Sonoma                25094   \n",
       "45     INC1045  2014-05-13         Sonoma                21703   \n",
       "47     INC1047  2014-05-16      San Diego                28661   \n",
       "\n",
       "    Homes_Destroyed  Businesses_Destroyed  Vehicles_Damaged  Injuries  \\\n",
       "58             1186                   438                71        54   \n",
       "61              544                   223               196       100   \n",
       "17             1014                   288               269        30   \n",
       "45              735                   279               294         3   \n",
       "47              276                   313                89         7   \n",
       "\n",
       "    Fatalities  Estimated_Financial_Loss (Million $)           Cause  \\\n",
       "58          11                               2580.87         Unknown   \n",
       "61           8                                 85.57         Unknown   \n",
       "17          12                                268.91  Human Activity   \n",
       "45           1                               1305.34  Human Activity   \n",
       "47          10                               3485.12         Unknown   \n",
       "\n",
       "             Name   Latitude   Longitude  Year  \n",
       "58  Santa Barbara  34.420831 -119.698189  2014  \n",
       "61    Los Angeles  34.052233 -118.243686  2014  \n",
       "17         Sonoma  38.291858 -122.458036  2014  \n",
       "45         Sonoma  38.291858 -122.458036  2014  \n",
       "47      San Diego  32.715328 -117.157256  2014  "
      ]
     },
     "execution_count": 12,
     "metadata": {},
     "output_type": "execute_result"
    }
   ],
   "source": [
    "wildfires_cali = wildfires_cali.merge(cali_lat_lon, left_on='Location', right_on='Name', how='left').dropna().sort_values(['Date'])\n",
    "wildfires_cali['Year'] = wildfires_cali['Date'].str.split('-').str[0]\n",
    "wildfires_cali.head()"
   ]
  },
  {
   "cell_type": "markdown",
   "metadata": {},
   "source": [
    "#### 3. Scatter Map for California Wildfires"
   ]
  },
  {
   "cell_type": "code",
   "execution_count": 34,
   "metadata": {},
   "outputs": [
    {
     "name": "stderr",
     "output_type": "stream",
     "text": [
      "/var/folders/xc/n2khsbgn62q4xjdl6rz4txf40000gn/T/ipykernel_21820/32474708.py:1: DeprecationWarning:\n",
      "\n",
      "*scatter_mapbox* is deprecated! Use *scatter_map* instead. Learn more at: https://plotly.com/python/mapbox-to-maplibre/\n",
      "\n"
     ]
    },
    {
     "data": {
      "application/vnd.plotly.v1+json": {
       "config": {
        "plotlyServerURL": "https://plot.ly"
       },
       "data": [
        {
         "hovertemplate": "<b>%{hovertext}</b><br><br>Year=2014<br>Area_Burned (Acres)=%{marker.size}<br>Latitude=%{lat}<br>Longitude=%{lon}<extra></extra>",
         "hovertext": [
          "Unknown",
          "Unknown",
          "Human Activity",
          "Human Activity",
          "Unknown",
          "Human Activity"
         ],
         "lat": {
          "bdata": "TRJLyt01QUDQYimSrwZBQLmJWppbJUNAuYlamlslQ0Dg9C7ej1tAQOD0Lt6PW0BA",
          "dtype": "f8"
         },
         "legendgroup": "",
         "lon": {
          "bdata": "U1vqIK/sXcCOHyqNmI9dwAEZOnZQnV7AARk6dlCdXsBjRnh7EEpdwGNGeHsQSl3A",
          "dtype": "f8"
         },
         "marker": {
          "color": "#636efa",
          "size": {
           "bdata": "OroAAJorAAAGYgAAx1QAAPVvAAD7GQAA",
           "dtype": "i4"
          },
          "sizemode": "area",
          "sizeref": 122.52
         },
         "mode": "markers",
         "name": "",
         "showlegend": false,
         "subplot": "mapbox",
         "type": "scattermapbox"
        }
       ],
       "frames": [
        {
         "data": [
          {
           "hovertemplate": "<b>%{hovertext}</b><br><br>Year=2014<br>Area_Burned (Acres)=%{marker.size}<br>Latitude=%{lat}<br>Longitude=%{lon}<extra></extra>",
           "hovertext": [
            "Unknown",
            "Unknown",
            "Human Activity",
            "Human Activity",
            "Unknown",
            "Human Activity"
           ],
           "lat": {
            "bdata": "TRJLyt01QUDQYimSrwZBQLmJWppbJUNAuYlamlslQ0Dg9C7ej1tAQOD0Lt6PW0BA",
            "dtype": "f8"
           },
           "legendgroup": "",
           "lon": {
            "bdata": "U1vqIK/sXcCOHyqNmI9dwAEZOnZQnV7AARk6dlCdXsBjRnh7EEpdwGNGeHsQSl3A",
            "dtype": "f8"
           },
           "marker": {
            "color": "#636efa",
            "size": {
             "bdata": "OroAAJorAAAGYgAAx1QAAPVvAAD7GQAA",
             "dtype": "i4"
            },
            "sizemode": "area",
            "sizeref": 122.52
           },
           "mode": "markers",
           "name": "",
           "showlegend": false,
           "subplot": "mapbox",
           "type": "scattermapbox"
          }
         ],
         "name": "2014"
        },
        {
         "data": [
          {
           "hovertemplate": "<b>%{hovertext}</b><br><br>Year=2015<br>Area_Burned (Acres)=%{marker.size}<br>Latitude=%{lat}<br>Longitude=%{lon}<extra></extra>",
           "hovertext": [
            "Lightning",
            "Human Activity",
            "Unknown",
            "Lightning",
            "Lightning"
           ],
           "lat": {
            "bdata": "INJvXwf6QEDQYimSrwZBQBX+DG/W5EBA4PQu3o9bQEDg9C7ej1tAQA==",
            "dtype": "f8"
           },
           "legendgroup": "",
           "lon": {
            "bdata": "TweynlpZXcCOHyqNmI9dwOc24V6Zdl3AY0Z4exBKXcBjRnh7EEpdwA==",
            "dtype": "f8"
           },
           "marker": {
            "color": "#636efa",
            "size": {
             "bdata": "cL8AAOarAADikwAADmkAAFibAAA=",
             "dtype": "i4"
            },
            "sizemode": "area",
            "sizeref": 122.52
           },
           "mode": "markers",
           "name": "",
           "showlegend": false,
           "subplot": "mapbox",
           "type": "scattermapbox"
          }
         ],
         "name": "2015"
        },
        {
         "data": [
          {
           "hovertemplate": "<b>%{hovertext}</b><br><br>Year=2016<br>Area_Burned (Acres)=%{marker.size}<br>Latitude=%{lat}<br>Longitude=%{lon}<extra></extra>",
           "hovertext": [
            "Human Activity",
            "Human Activity",
            "Human Activity",
            "Unknown"
           ],
           "lat": {
            "bdata": "INJvXwf6QEAV/gxv1uRAQOD0Lt6PW0BAFf4Mb9bkQEA=",
            "dtype": "f8"
           },
           "legendgroup": "",
           "lon": {
            "bdata": "TweynlpZXcDnNuFemXZdwGNGeHsQSl3A5zbhXpl2XcA=",
            "dtype": "f8"
           },
           "marker": {
            "color": "#636efa",
            "size": {
             "bdata": "EncAANwZAACROQAABqgAAA==",
             "dtype": "i4"
            },
            "sizemode": "area",
            "sizeref": 122.52
           },
           "mode": "markers",
           "name": "",
           "showlegend": false,
           "subplot": "mapbox",
           "type": "scattermapbox"
          }
         ],
         "name": "2016"
        },
        {
         "data": [
          {
           "hovertemplate": "<b>%{hovertext}</b><br><br>Year=2017<br>Area_Burned (Acres)=%{marker.size}<br>Latitude=%{lat}<br>Longitude=%{lon}<extra></extra>",
           "hovertext": [
            "Lightning",
            "Unknown",
            "Lightning",
            "Lightning"
           ],
           "lat": {
            "bdata": "4PQu3o9bQEAg0m9fB/pAQNBiKZKvBkFAFf4Mb9bkQEA=",
            "dtype": "f8"
           },
           "legendgroup": "",
           "lon": {
            "bdata": "Y0Z4exBKXcBPB7KeWlldwI4fKo2Yj13A5zbhXpl2XcA=",
            "dtype": "f8"
           },
           "marker": {
            "color": "#636efa",
            "size": {
             "bdata": "ZQHvDilQVwg=",
             "dtype": "i2"
            },
            "sizemode": "area",
            "sizeref": 122.52
           },
           "mode": "markers",
           "name": "",
           "showlegend": false,
           "subplot": "mapbox",
           "type": "scattermapbox"
          }
         ],
         "name": "2017"
        },
        {
         "data": [
          {
           "hovertemplate": "<b>%{hovertext}</b><br><br>Year=2018<br>Area_Burned (Acres)=%{marker.size}<br>Latitude=%{lat}<br>Longitude=%{lon}<extra></extra>",
           "hovertext": [
            "Lightning",
            "Human Activity",
            "Human Activity",
            "Unknown",
            "Lightning",
            "Human Activity",
            "Unknown",
            "Lightning"
           ],
           "lat": {
            "bdata": "INJvXwf6QEDg9C7ej1tAQNBiKZKvBkFAuYlamlslQ0BNEkvK3TVBQCDSb18H+kBA4PQu3o9bQEBNEkvK3TVBQA==",
            "dtype": "f8"
           },
           "legendgroup": "",
           "lon": {
            "bdata": "TweynlpZXcBjRnh7EEpdwI4fKo2Yj13AARk6dlCdXsBTW+ogr+xdwE8Hsp5aWV3AY0Z4exBKXcBTW+ogr+xdwA==",
            "dtype": "f8"
           },
           "marker": {
            "color": "#636efa",
            "size": {
             "bdata": "aDQAAKY+AAB3hAAAhEEAAP8HAABthQAAK3EAAAu7AAA=",
             "dtype": "i4"
            },
            "sizemode": "area",
            "sizeref": 122.52
           },
           "mode": "markers",
           "name": "",
           "showlegend": false,
           "subplot": "mapbox",
           "type": "scattermapbox"
          }
         ],
         "name": "2018"
        },
        {
         "data": [
          {
           "hovertemplate": "<b>%{hovertext}</b><br><br>Year=2019<br>Area_Burned (Acres)=%{marker.size}<br>Latitude=%{lat}<br>Longitude=%{lon}<extra></extra>",
           "hovertext": [
            "Unknown",
            "Lightning",
            "Unknown"
           ],
           "lat": {
            "bdata": "uYlamlslQ0Dg9C7ej1tAQBX+DG/W5EBA",
            "dtype": "f8"
           },
           "legendgroup": "",
           "lon": {
            "bdata": "ARk6dlCdXsBjRnh7EEpdwOc24V6Zdl3A",
            "dtype": "f8"
           },
           "marker": {
            "color": "#636efa",
            "size": {
             "bdata": "yRAAAHSbAADaSQAA",
             "dtype": "i4"
            },
            "sizemode": "area",
            "sizeref": 122.52
           },
           "mode": "markers",
           "name": "",
           "showlegend": false,
           "subplot": "mapbox",
           "type": "scattermapbox"
          }
         ],
         "name": "2019"
        },
        {
         "data": [
          {
           "hovertemplate": "<b>%{hovertext}</b><br><br>Year=2020<br>Area_Burned (Acres)=%{marker.size}<br>Latitude=%{lat}<br>Longitude=%{lon}<extra></extra>",
           "hovertext": [
            "Unknown",
            "Unknown",
            "Lightning",
            "Human Activity",
            "Lightning"
           ],
           "lat": {
            "bdata": "uYlamlslQ0AV/gxv1uRAQCDSb18H+kBAFf4Mb9bkQEC5iVqaWyVDQA==",
            "dtype": "f8"
           },
           "legendgroup": "",
           "lon": {
            "bdata": "ARk6dlCdXsDnNuFemXZdwE8Hsp5aWV3A5zbhXpl2XcABGTp2UJ1ewA==",
            "dtype": "f8"
           },
           "marker": {
            "color": "#636efa",
            "size": {
             "bdata": "SCUAANimAADbNAAAOqYAAOA2AAA=",
             "dtype": "i4"
            },
            "sizemode": "area",
            "sizeref": 122.52
           },
           "mode": "markers",
           "name": "",
           "showlegend": false,
           "subplot": "mapbox",
           "type": "scattermapbox"
          }
         ],
         "name": "2020"
        },
        {
         "data": [
          {
           "hovertemplate": "<b>%{hovertext}</b><br><br>Year=2021<br>Area_Burned (Acres)=%{marker.size}<br>Latitude=%{lat}<br>Longitude=%{lon}<extra></extra>",
           "hovertext": [
            "Unknown",
            "Lightning",
            "Unknown",
            "Lightning",
            "Human Activity",
            "Unknown"
           ],
           "lat": {
            "bdata": "uYlamlslQ0C5iVqaWyVDQLmJWppbJUNAuYlamlslQ0BNEkvK3TVBQCDSb18H+kBA",
            "dtype": "f8"
           },
           "legendgroup": "",
           "lon": {
            "bdata": "ARk6dlCdXsABGTp2UJ1ewAEZOnZQnV7AARk6dlCdXsBTW+ogr+xdwE8Hsp5aWV3A",
            "dtype": "f8"
           },
           "marker": {
            "color": "#636efa",
            "size": {
             "bdata": "JE4AAHhDAACAnQAAg4MAAEBRAAA0cgAA",
             "dtype": "i4"
            },
            "sizemode": "area",
            "sizeref": 122.52
           },
           "mode": "markers",
           "name": "",
           "showlegend": false,
           "subplot": "mapbox",
           "type": "scattermapbox"
          }
         ],
         "name": "2021"
        },
        {
         "data": [
          {
           "hovertemplate": "<b>%{hovertext}</b><br><br>Year=2022<br>Area_Burned (Acres)=%{marker.size}<br>Latitude=%{lat}<br>Longitude=%{lon}<extra></extra>",
           "hovertext": [
            "Human Activity",
            "Lightning",
            "Lightning",
            "Human Activity",
            "Human Activity",
            "Human Activity"
           ],
           "lat": {
            "bdata": "4PQu3o9bQEDQYimSrwZBQNBiKZKvBkFAFf4Mb9bkQEDg9C7ej1tAQNBiKZKvBkFA",
            "dtype": "f8"
           },
           "legendgroup": "",
           "lon": {
            "bdata": "Y0Z4exBKXcCOHyqNmI9dwI4fKo2Yj13A5zbhXpl2XcBjRnh7EEpdwI4fKo2Yj13A",
            "dtype": "f8"
           },
           "marker": {
            "color": "#636efa",
            "size": {
             "bdata": "830AAFQOAACfhgAArq8AANo/AAAXTQAA",
             "dtype": "i4"
            },
            "sizemode": "area",
            "sizeref": 122.52
           },
           "mode": "markers",
           "name": "",
           "showlegend": false,
           "subplot": "mapbox",
           "type": "scattermapbox"
          }
         ],
         "name": "2022"
        },
        {
         "data": [
          {
           "hovertemplate": "<b>%{hovertext}</b><br><br>Year=2023<br>Area_Burned (Acres)=%{marker.size}<br>Latitude=%{lat}<br>Longitude=%{lon}<extra></extra>",
           "hovertext": [
            "Unknown",
            "Unknown",
            "Unknown",
            "Human Activity",
            "Human Activity",
            "Unknown",
            "Unknown"
           ],
           "lat": {
            "bdata": "uYlamlslQ0Dg9C7ej1tAQE0SS8rdNUFAINJvXwf6QEAV/gxv1uRAQE0SS8rdNUFAuYlamlslQ0A=",
            "dtype": "f8"
           },
           "legendgroup": "",
           "lon": {
            "bdata": "ARk6dlCdXsBjRnh7EEpdwFNb6iCv7F3ATweynlpZXcDnNuFemXZdwFNb6iCv7F3AARk6dlCdXsA=",
            "dtype": "f8"
           },
           "marker": {
            "color": "#636efa",
            "size": {
             "bdata": "GGAAAOFcAABlSQAA+KwAAMStAABwogAAwk8AAA==",
             "dtype": "i4"
            },
            "sizemode": "area",
            "sizeref": 122.52
           },
           "mode": "markers",
           "name": "",
           "showlegend": false,
           "subplot": "mapbox",
           "type": "scattermapbox"
          }
         ],
         "name": "2023"
        }
       ],
       "layout": {
        "height": 600,
        "legend": {
         "itemsizing": "constant",
         "tracegroupgap": 0
        },
        "mapbox": {
         "center": {
          "lat": 34.679514722222216,
          "lon": -118.90973494444445
         },
         "domain": {
          "x": [
           0,
           1
          ],
          "y": [
           0,
           1
          ]
         },
         "style": "open-street-map",
         "zoom": 4
        },
        "sliders": [
         {
          "active": 0,
          "currentvalue": {
           "prefix": "Year="
          },
          "len": 0.9,
          "pad": {
           "b": 10,
           "t": 60
          },
          "steps": [
           {
            "args": [
             [
              "2014"
             ],
             {
              "frame": {
               "duration": 0,
               "redraw": true
              },
              "fromcurrent": true,
              "mode": "immediate",
              "transition": {
               "duration": 0,
               "easing": "linear"
              }
             }
            ],
            "label": "2014",
            "method": "animate"
           },
           {
            "args": [
             [
              "2015"
             ],
             {
              "frame": {
               "duration": 0,
               "redraw": true
              },
              "fromcurrent": true,
              "mode": "immediate",
              "transition": {
               "duration": 0,
               "easing": "linear"
              }
             }
            ],
            "label": "2015",
            "method": "animate"
           },
           {
            "args": [
             [
              "2016"
             ],
             {
              "frame": {
               "duration": 0,
               "redraw": true
              },
              "fromcurrent": true,
              "mode": "immediate",
              "transition": {
               "duration": 0,
               "easing": "linear"
              }
             }
            ],
            "label": "2016",
            "method": "animate"
           },
           {
            "args": [
             [
              "2017"
             ],
             {
              "frame": {
               "duration": 0,
               "redraw": true
              },
              "fromcurrent": true,
              "mode": "immediate",
              "transition": {
               "duration": 0,
               "easing": "linear"
              }
             }
            ],
            "label": "2017",
            "method": "animate"
           },
           {
            "args": [
             [
              "2018"
             ],
             {
              "frame": {
               "duration": 0,
               "redraw": true
              },
              "fromcurrent": true,
              "mode": "immediate",
              "transition": {
               "duration": 0,
               "easing": "linear"
              }
             }
            ],
            "label": "2018",
            "method": "animate"
           },
           {
            "args": [
             [
              "2019"
             ],
             {
              "frame": {
               "duration": 0,
               "redraw": true
              },
              "fromcurrent": true,
              "mode": "immediate",
              "transition": {
               "duration": 0,
               "easing": "linear"
              }
             }
            ],
            "label": "2019",
            "method": "animate"
           },
           {
            "args": [
             [
              "2020"
             ],
             {
              "frame": {
               "duration": 0,
               "redraw": true
              },
              "fromcurrent": true,
              "mode": "immediate",
              "transition": {
               "duration": 0,
               "easing": "linear"
              }
             }
            ],
            "label": "2020",
            "method": "animate"
           },
           {
            "args": [
             [
              "2021"
             ],
             {
              "frame": {
               "duration": 0,
               "redraw": true
              },
              "fromcurrent": true,
              "mode": "immediate",
              "transition": {
               "duration": 0,
               "easing": "linear"
              }
             }
            ],
            "label": "2021",
            "method": "animate"
           },
           {
            "args": [
             [
              "2022"
             ],
             {
              "frame": {
               "duration": 0,
               "redraw": true
              },
              "fromcurrent": true,
              "mode": "immediate",
              "transition": {
               "duration": 0,
               "easing": "linear"
              }
             }
            ],
            "label": "2022",
            "method": "animate"
           },
           {
            "args": [
             [
              "2023"
             ],
             {
              "frame": {
               "duration": 0,
               "redraw": true
              },
              "fromcurrent": true,
              "mode": "immediate",
              "transition": {
               "duration": 0,
               "easing": "linear"
              }
             }
            ],
            "label": "2023",
            "method": "animate"
           }
          ],
          "x": 0.1,
          "xanchor": "left",
          "y": 0,
          "yanchor": "top"
         }
        ],
        "template": {
         "data": {
          "bar": [
           {
            "error_x": {
             "color": "#2a3f5f"
            },
            "error_y": {
             "color": "#2a3f5f"
            },
            "marker": {
             "line": {
              "color": "#E5ECF6",
              "width": 0.5
             },
             "pattern": {
              "fillmode": "overlay",
              "size": 10,
              "solidity": 0.2
             }
            },
            "type": "bar"
           }
          ],
          "barpolar": [
           {
            "marker": {
             "line": {
              "color": "#E5ECF6",
              "width": 0.5
             },
             "pattern": {
              "fillmode": "overlay",
              "size": 10,
              "solidity": 0.2
             }
            },
            "type": "barpolar"
           }
          ],
          "carpet": [
           {
            "aaxis": {
             "endlinecolor": "#2a3f5f",
             "gridcolor": "white",
             "linecolor": "white",
             "minorgridcolor": "white",
             "startlinecolor": "#2a3f5f"
            },
            "baxis": {
             "endlinecolor": "#2a3f5f",
             "gridcolor": "white",
             "linecolor": "white",
             "minorgridcolor": "white",
             "startlinecolor": "#2a3f5f"
            },
            "type": "carpet"
           }
          ],
          "choropleth": [
           {
            "colorbar": {
             "outlinewidth": 0,
             "ticks": ""
            },
            "type": "choropleth"
           }
          ],
          "contour": [
           {
            "colorbar": {
             "outlinewidth": 0,
             "ticks": ""
            },
            "colorscale": [
             [
              0,
              "#0d0887"
             ],
             [
              0.1111111111111111,
              "#46039f"
             ],
             [
              0.2222222222222222,
              "#7201a8"
             ],
             [
              0.3333333333333333,
              "#9c179e"
             ],
             [
              0.4444444444444444,
              "#bd3786"
             ],
             [
              0.5555555555555556,
              "#d8576b"
             ],
             [
              0.6666666666666666,
              "#ed7953"
             ],
             [
              0.7777777777777778,
              "#fb9f3a"
             ],
             [
              0.8888888888888888,
              "#fdca26"
             ],
             [
              1,
              "#f0f921"
             ]
            ],
            "type": "contour"
           }
          ],
          "contourcarpet": [
           {
            "colorbar": {
             "outlinewidth": 0,
             "ticks": ""
            },
            "type": "contourcarpet"
           }
          ],
          "heatmap": [
           {
            "colorbar": {
             "outlinewidth": 0,
             "ticks": ""
            },
            "colorscale": [
             [
              0,
              "#0d0887"
             ],
             [
              0.1111111111111111,
              "#46039f"
             ],
             [
              0.2222222222222222,
              "#7201a8"
             ],
             [
              0.3333333333333333,
              "#9c179e"
             ],
             [
              0.4444444444444444,
              "#bd3786"
             ],
             [
              0.5555555555555556,
              "#d8576b"
             ],
             [
              0.6666666666666666,
              "#ed7953"
             ],
             [
              0.7777777777777778,
              "#fb9f3a"
             ],
             [
              0.8888888888888888,
              "#fdca26"
             ],
             [
              1,
              "#f0f921"
             ]
            ],
            "type": "heatmap"
           }
          ],
          "histogram": [
           {
            "marker": {
             "pattern": {
              "fillmode": "overlay",
              "size": 10,
              "solidity": 0.2
             }
            },
            "type": "histogram"
           }
          ],
          "histogram2d": [
           {
            "colorbar": {
             "outlinewidth": 0,
             "ticks": ""
            },
            "colorscale": [
             [
              0,
              "#0d0887"
             ],
             [
              0.1111111111111111,
              "#46039f"
             ],
             [
              0.2222222222222222,
              "#7201a8"
             ],
             [
              0.3333333333333333,
              "#9c179e"
             ],
             [
              0.4444444444444444,
              "#bd3786"
             ],
             [
              0.5555555555555556,
              "#d8576b"
             ],
             [
              0.6666666666666666,
              "#ed7953"
             ],
             [
              0.7777777777777778,
              "#fb9f3a"
             ],
             [
              0.8888888888888888,
              "#fdca26"
             ],
             [
              1,
              "#f0f921"
             ]
            ],
            "type": "histogram2d"
           }
          ],
          "histogram2dcontour": [
           {
            "colorbar": {
             "outlinewidth": 0,
             "ticks": ""
            },
            "colorscale": [
             [
              0,
              "#0d0887"
             ],
             [
              0.1111111111111111,
              "#46039f"
             ],
             [
              0.2222222222222222,
              "#7201a8"
             ],
             [
              0.3333333333333333,
              "#9c179e"
             ],
             [
              0.4444444444444444,
              "#bd3786"
             ],
             [
              0.5555555555555556,
              "#d8576b"
             ],
             [
              0.6666666666666666,
              "#ed7953"
             ],
             [
              0.7777777777777778,
              "#fb9f3a"
             ],
             [
              0.8888888888888888,
              "#fdca26"
             ],
             [
              1,
              "#f0f921"
             ]
            ],
            "type": "histogram2dcontour"
           }
          ],
          "mesh3d": [
           {
            "colorbar": {
             "outlinewidth": 0,
             "ticks": ""
            },
            "type": "mesh3d"
           }
          ],
          "parcoords": [
           {
            "line": {
             "colorbar": {
              "outlinewidth": 0,
              "ticks": ""
             }
            },
            "type": "parcoords"
           }
          ],
          "pie": [
           {
            "automargin": true,
            "type": "pie"
           }
          ],
          "scatter": [
           {
            "fillpattern": {
             "fillmode": "overlay",
             "size": 10,
             "solidity": 0.2
            },
            "type": "scatter"
           }
          ],
          "scatter3d": [
           {
            "line": {
             "colorbar": {
              "outlinewidth": 0,
              "ticks": ""
             }
            },
            "marker": {
             "colorbar": {
              "outlinewidth": 0,
              "ticks": ""
             }
            },
            "type": "scatter3d"
           }
          ],
          "scattercarpet": [
           {
            "marker": {
             "colorbar": {
              "outlinewidth": 0,
              "ticks": ""
             }
            },
            "type": "scattercarpet"
           }
          ],
          "scattergeo": [
           {
            "marker": {
             "colorbar": {
              "outlinewidth": 0,
              "ticks": ""
             }
            },
            "type": "scattergeo"
           }
          ],
          "scattergl": [
           {
            "marker": {
             "colorbar": {
              "outlinewidth": 0,
              "ticks": ""
             }
            },
            "type": "scattergl"
           }
          ],
          "scattermap": [
           {
            "marker": {
             "colorbar": {
              "outlinewidth": 0,
              "ticks": ""
             }
            },
            "type": "scattermap"
           }
          ],
          "scattermapbox": [
           {
            "marker": {
             "colorbar": {
              "outlinewidth": 0,
              "ticks": ""
             }
            },
            "type": "scattermapbox"
           }
          ],
          "scatterpolar": [
           {
            "marker": {
             "colorbar": {
              "outlinewidth": 0,
              "ticks": ""
             }
            },
            "type": "scatterpolar"
           }
          ],
          "scatterpolargl": [
           {
            "marker": {
             "colorbar": {
              "outlinewidth": 0,
              "ticks": ""
             }
            },
            "type": "scatterpolargl"
           }
          ],
          "scatterternary": [
           {
            "marker": {
             "colorbar": {
              "outlinewidth": 0,
              "ticks": ""
             }
            },
            "type": "scatterternary"
           }
          ],
          "surface": [
           {
            "colorbar": {
             "outlinewidth": 0,
             "ticks": ""
            },
            "colorscale": [
             [
              0,
              "#0d0887"
             ],
             [
              0.1111111111111111,
              "#46039f"
             ],
             [
              0.2222222222222222,
              "#7201a8"
             ],
             [
              0.3333333333333333,
              "#9c179e"
             ],
             [
              0.4444444444444444,
              "#bd3786"
             ],
             [
              0.5555555555555556,
              "#d8576b"
             ],
             [
              0.6666666666666666,
              "#ed7953"
             ],
             [
              0.7777777777777778,
              "#fb9f3a"
             ],
             [
              0.8888888888888888,
              "#fdca26"
             ],
             [
              1,
              "#f0f921"
             ]
            ],
            "type": "surface"
           }
          ],
          "table": [
           {
            "cells": {
             "fill": {
              "color": "#EBF0F8"
             },
             "line": {
              "color": "white"
             }
            },
            "header": {
             "fill": {
              "color": "#C8D4E3"
             },
             "line": {
              "color": "white"
             }
            },
            "type": "table"
           }
          ]
         },
         "layout": {
          "annotationdefaults": {
           "arrowcolor": "#2a3f5f",
           "arrowhead": 0,
           "arrowwidth": 1
          },
          "autotypenumbers": "strict",
          "coloraxis": {
           "colorbar": {
            "outlinewidth": 0,
            "ticks": ""
           }
          },
          "colorscale": {
           "diverging": [
            [
             0,
             "#8e0152"
            ],
            [
             0.1,
             "#c51b7d"
            ],
            [
             0.2,
             "#de77ae"
            ],
            [
             0.3,
             "#f1b6da"
            ],
            [
             0.4,
             "#fde0ef"
            ],
            [
             0.5,
             "#f7f7f7"
            ],
            [
             0.6,
             "#e6f5d0"
            ],
            [
             0.7,
             "#b8e186"
            ],
            [
             0.8,
             "#7fbc41"
            ],
            [
             0.9,
             "#4d9221"
            ],
            [
             1,
             "#276419"
            ]
           ],
           "sequential": [
            [
             0,
             "#0d0887"
            ],
            [
             0.1111111111111111,
             "#46039f"
            ],
            [
             0.2222222222222222,
             "#7201a8"
            ],
            [
             0.3333333333333333,
             "#9c179e"
            ],
            [
             0.4444444444444444,
             "#bd3786"
            ],
            [
             0.5555555555555556,
             "#d8576b"
            ],
            [
             0.6666666666666666,
             "#ed7953"
            ],
            [
             0.7777777777777778,
             "#fb9f3a"
            ],
            [
             0.8888888888888888,
             "#fdca26"
            ],
            [
             1,
             "#f0f921"
            ]
           ],
           "sequentialminus": [
            [
             0,
             "#0d0887"
            ],
            [
             0.1111111111111111,
             "#46039f"
            ],
            [
             0.2222222222222222,
             "#7201a8"
            ],
            [
             0.3333333333333333,
             "#9c179e"
            ],
            [
             0.4444444444444444,
             "#bd3786"
            ],
            [
             0.5555555555555556,
             "#d8576b"
            ],
            [
             0.6666666666666666,
             "#ed7953"
            ],
            [
             0.7777777777777778,
             "#fb9f3a"
            ],
            [
             0.8888888888888888,
             "#fdca26"
            ],
            [
             1,
             "#f0f921"
            ]
           ]
          },
          "colorway": [
           "#636efa",
           "#EF553B",
           "#00cc96",
           "#ab63fa",
           "#FFA15A",
           "#19d3f3",
           "#FF6692",
           "#B6E880",
           "#FF97FF",
           "#FECB52"
          ],
          "font": {
           "color": "#2a3f5f"
          },
          "geo": {
           "bgcolor": "white",
           "lakecolor": "white",
           "landcolor": "#E5ECF6",
           "showlakes": true,
           "showland": true,
           "subunitcolor": "white"
          },
          "hoverlabel": {
           "align": "left"
          },
          "hovermode": "closest",
          "mapbox": {
           "style": "light"
          },
          "paper_bgcolor": "white",
          "plot_bgcolor": "#E5ECF6",
          "polar": {
           "angularaxis": {
            "gridcolor": "white",
            "linecolor": "white",
            "ticks": ""
           },
           "bgcolor": "#E5ECF6",
           "radialaxis": {
            "gridcolor": "white",
            "linecolor": "white",
            "ticks": ""
           }
          },
          "scene": {
           "xaxis": {
            "backgroundcolor": "#E5ECF6",
            "gridcolor": "white",
            "gridwidth": 2,
            "linecolor": "white",
            "showbackground": true,
            "ticks": "",
            "zerolinecolor": "white"
           },
           "yaxis": {
            "backgroundcolor": "#E5ECF6",
            "gridcolor": "white",
            "gridwidth": 2,
            "linecolor": "white",
            "showbackground": true,
            "ticks": "",
            "zerolinecolor": "white"
           },
           "zaxis": {
            "backgroundcolor": "#E5ECF6",
            "gridcolor": "white",
            "gridwidth": 2,
            "linecolor": "white",
            "showbackground": true,
            "ticks": "",
            "zerolinecolor": "white"
           }
          },
          "shapedefaults": {
           "line": {
            "color": "#2a3f5f"
           }
          },
          "ternary": {
           "aaxis": {
            "gridcolor": "white",
            "linecolor": "white",
            "ticks": ""
           },
           "baxis": {
            "gridcolor": "white",
            "linecolor": "white",
            "ticks": ""
           },
           "bgcolor": "#E5ECF6",
           "caxis": {
            "gridcolor": "white",
            "linecolor": "white",
            "ticks": ""
           }
          },
          "title": {
           "x": 0.05
          },
          "xaxis": {
           "automargin": true,
           "gridcolor": "white",
           "linecolor": "white",
           "ticks": "",
           "title": {
            "standoff": 15
           },
           "zerolinecolor": "white",
           "zerolinewidth": 2
          },
          "yaxis": {
           "automargin": true,
           "gridcolor": "white",
           "linecolor": "white",
           "ticks": "",
           "title": {
            "standoff": 15
           },
           "zerolinecolor": "white",
           "zerolinewidth": 2
          }
         }
        },
        "title": {
         "text": "Wildfires in California 2014-2023"
        },
        "updatemenus": [
         {
          "buttons": [
           {
            "args": [
             null,
             {
              "frame": {
               "duration": 500,
               "redraw": true
              },
              "fromcurrent": true,
              "mode": "immediate",
              "transition": {
               "duration": 500,
               "easing": "linear"
              }
             }
            ],
            "label": "&#9654;",
            "method": "animate"
           },
           {
            "args": [
             [
              null
             ],
             {
              "frame": {
               "duration": 0,
               "redraw": true
              },
              "fromcurrent": true,
              "mode": "immediate",
              "transition": {
               "duration": 0,
               "easing": "linear"
              }
             }
            ],
            "label": "&#9724;",
            "method": "animate"
           }
          ],
          "direction": "left",
          "pad": {
           "r": 10,
           "t": 70
          },
          "showactive": false,
          "type": "buttons",
          "x": 0.1,
          "xanchor": "right",
          "y": 0,
          "yanchor": "top"
         }
        ],
        "width": 800
       }
      }
     },
     "metadata": {},
     "output_type": "display_data"
    }
   ],
   "source": [
    "fig_cali = px.scatter_mapbox(wildfires_cali, lat='Latitude', lon='Longitude', hover_name='Cause',animation_frame='Year', mapbox_style='open-street-map', size = 'Area_Burned (Acres)', zoom=4, title='Wildfires in California 2014-2023')\n",
    "\n",
    "\n",
    "# to show the plot here: \n",
    "fig_cali.update_layout(height=600, width=800)\n",
    "fig_cali.show()"
   ]
  },
  {
   "cell_type": "code",
   "execution_count": null,
   "metadata": {},
   "outputs": [],
   "source": [
    "plotly.offline.plot(fig_cali, filename= 'C: \\fig_cali.html', auto_open=True)"
   ]
  },
  {
   "cell_type": "markdown",
   "metadata": {},
   "source": [
    "The various plots that I show above is also an indication that the advancing technology do play a role in climate crisis. In addition to the function of presenting the progress of global warming, generative AI could also build up models to predict the temperature changing or next wildfire in the area. But predictions does not guarantee certainty, and individual efforts is necessary to prevent the proceeding of global warming. "
   ]
  },
  {
   "cell_type": "code",
   "execution_count": null,
   "metadata": {},
   "outputs": [],
   "source": []
  },
  {
   "cell_type": "code",
   "execution_count": null,
   "metadata": {},
   "outputs": [],
   "source": []
  },
  {
   "cell_type": "code",
   "execution_count": null,
   "metadata": {},
   "outputs": [],
   "source": []
  },
  {
   "cell_type": "markdown",
   "metadata": {},
   "source": [
    "### Part 3: Progress"
   ]
  },
  {
   "cell_type": "code",
   "execution_count": 14,
   "metadata": {},
   "outputs": [
    {
     "data": {
      "text/html": [
       "<div>\n",
       "<style scoped>\n",
       "    .dataframe tbody tr th:only-of-type {\n",
       "        vertical-align: middle;\n",
       "    }\n",
       "\n",
       "    .dataframe tbody tr th {\n",
       "        vertical-align: top;\n",
       "    }\n",
       "\n",
       "    .dataframe thead th {\n",
       "        text-align: right;\n",
       "    }\n",
       "</style>\n",
       "<table border=\"1\" class=\"dataframe\">\n",
       "  <thead>\n",
       "    <tr style=\"text-align: right;\">\n",
       "      <th></th>\n",
       "      <th>Unnamed: 0</th>\n",
       "      <th>Headline</th>\n",
       "      <th>Link</th>\n",
       "      <th>Content</th>\n",
       "      <th>Sentiment</th>\n",
       "      <th>Justification</th>\n",
       "    </tr>\n",
       "  </thead>\n",
       "  <tbody>\n",
       "    <tr>\n",
       "      <th>0</th>\n",
       "      <td>0</td>\n",
       "      <td>Australia's year ahead in climate and environm...</td>\n",
       "      <td>https://www.abc.net.au/news/science/2024-01-23...</td>\n",
       "      <td>The year has barely started and extreme weath...</td>\n",
       "      <td>0.0</td>\n",
       "      <td>The headline is unclear about its direct impac...</td>\n",
       "    </tr>\n",
       "    <tr>\n",
       "      <th>1</th>\n",
       "      <td>1</td>\n",
       "      <td>Projections reveal the vulnerability of freshw...</td>\n",
       "      <td>https://news.griffith.edu.au/2024/01/09/projec...</td>\n",
       "      <td>“Water from groundwater, rivers and rainfall ...</td>\n",
       "      <td>-0.5</td>\n",
       "      <td>The vulnerability of freshwater is concerning ...</td>\n",
       "    </tr>\n",
       "    <tr>\n",
       "      <th>2</th>\n",
       "      <td>2</td>\n",
       "      <td>Record heat in 2023 worsened global droughts, ...</td>\n",
       "      <td>https://www.anu.edu.au/news/all-news/record-he...</td>\n",
       "      <td>2023 saw an increase in the frequency and int...</td>\n",
       "      <td>-1.0</td>\n",
       "      <td>The headline describes worsening environmental...</td>\n",
       "    </tr>\n",
       "    <tr>\n",
       "      <th>3</th>\n",
       "      <td>3</td>\n",
       "      <td>It's not just the total rainfall \"“ why is eas...</td>\n",
       "      <td>https://www.theguardian.com/australia-news/202...</td>\n",
       "      <td>The number of storms in some regions is decre...</td>\n",
       "      <td>0.0</td>\n",
       "      <td>The headline is unclear about its stance on cl...</td>\n",
       "    </tr>\n",
       "    <tr>\n",
       "      <th>4</th>\n",
       "      <td>4</td>\n",
       "      <td>Expert Commentary: 2023 was the warmest year o...</td>\n",
       "      <td>https://www.csiro.au/en/news/all/news/2024/jan...</td>\n",
       "      <td>The European Union's Copernicus Climate Chang...</td>\n",
       "      <td>-0.5</td>\n",
       "      <td>While highlighting the reality of climate chan...</td>\n",
       "    </tr>\n",
       "  </tbody>\n",
       "</table>\n",
       "</div>"
      ],
      "text/plain": [
       "   Unnamed: 0                                           Headline  \\\n",
       "0           0  Australia's year ahead in climate and environm...   \n",
       "1           1  Projections reveal the vulnerability of freshw...   \n",
       "2           2  Record heat in 2023 worsened global droughts, ...   \n",
       "3           3  It's not just the total rainfall \"“ why is eas...   \n",
       "4           4  Expert Commentary: 2023 was the warmest year o...   \n",
       "\n",
       "                                                Link  \\\n",
       "0  https://www.abc.net.au/news/science/2024-01-23...   \n",
       "1  https://news.griffith.edu.au/2024/01/09/projec...   \n",
       "2  https://www.anu.edu.au/news/all-news/record-he...   \n",
       "3  https://www.theguardian.com/australia-news/202...   \n",
       "4  https://www.csiro.au/en/news/all/news/2024/jan...   \n",
       "\n",
       "                                             Content  Sentiment  \\\n",
       "0   The year has barely started and extreme weath...        0.0   \n",
       "1   “Water from groundwater, rivers and rainfall ...       -0.5   \n",
       "2   2023 saw an increase in the frequency and int...       -1.0   \n",
       "3   The number of storms in some regions is decre...        0.0   \n",
       "4   The European Union's Copernicus Climate Chang...       -0.5   \n",
       "\n",
       "                                       Justification  \n",
       "0  The headline is unclear about its direct impac...  \n",
       "1  The vulnerability of freshwater is concerning ...  \n",
       "2  The headline describes worsening environmental...  \n",
       "3  The headline is unclear about its stance on cl...  \n",
       "4  While highlighting the reality of climate chan...  "
      ]
     },
     "execution_count": 14,
     "metadata": {},
     "output_type": "execute_result"
    }
   ],
   "source": [
    "headlines = pd.read_csv('data/climate_headlines_sentiment.csv')\n",
    "headlines.head()"
   ]
  },
  {
   "cell_type": "code",
   "execution_count": 15,
   "metadata": {},
   "outputs": [
    {
     "data": {
      "text/plain": [
       "Sentiment\n",
       "-1.0    0.268555\n",
       "-0.5    0.148438\n",
       " 0.0    0.208008\n",
       " 0.5    0.225586\n",
       " 1.0    0.148438\n",
       "Name: count, dtype: float64"
      ]
     },
     "execution_count": 15,
     "metadata": {},
     "output_type": "execute_result"
    }
   ],
   "source": [
    "headlines['Sentiment'].value_counts().sort_index() / len(headlines)"
   ]
  },
  {
   "cell_type": "code",
   "execution_count": null,
   "metadata": {},
   "outputs": [],
   "source": []
  },
  {
   "cell_type": "code",
   "execution_count": null,
   "metadata": {},
   "outputs": [],
   "source": []
  },
  {
   "cell_type": "code",
   "execution_count": 16,
   "metadata": {},
   "outputs": [
    {
     "name": "stderr",
     "output_type": "stream",
     "text": [
      "/var/folders/xc/n2khsbgn62q4xjdl6rz4txf40000gn/T/ipykernel_21820/2395794171.py:1: DtypeWarning:\n",
      "\n",
      "Columns (10) have mixed types. Specify dtype option on import or set low_memory=False.\n",
      "\n"
     ]
    },
    {
     "data": {
      "text/html": [
       "<div>\n",
       "<style scoped>\n",
       "    .dataframe tbody tr th:only-of-type {\n",
       "        vertical-align: middle;\n",
       "    }\n",
       "\n",
       "    .dataframe tbody tr th {\n",
       "        vertical-align: top;\n",
       "    }\n",
       "\n",
       "    .dataframe thead th {\n",
       "        text-align: right;\n",
       "    }\n",
       "</style>\n",
       "<table border=\"1\" class=\"dataframe\">\n",
       "  <thead>\n",
       "    <tr style=\"text-align: right;\">\n",
       "      <th></th>\n",
       "      <th>comment_id</th>\n",
       "      <th>score</th>\n",
       "      <th>self_text</th>\n",
       "      <th>subreddit</th>\n",
       "      <th>created_time</th>\n",
       "      <th>post_id</th>\n",
       "      <th>author_name</th>\n",
       "      <th>controversiality</th>\n",
       "      <th>ups</th>\n",
       "      <th>downs</th>\n",
       "      <th>...</th>\n",
       "      <th>user_link_karma</th>\n",
       "      <th>user_comment_karma</th>\n",
       "      <th>user_total_karma</th>\n",
       "      <th>post_score</th>\n",
       "      <th>post_self_text</th>\n",
       "      <th>post_title</th>\n",
       "      <th>post_upvote_ratio</th>\n",
       "      <th>post_thumbs_ups</th>\n",
       "      <th>post_total_awards_received</th>\n",
       "      <th>post_created_time</th>\n",
       "    </tr>\n",
       "  </thead>\n",
       "  <tbody>\n",
       "    <tr>\n",
       "      <th>0</th>\n",
       "      <td>mevbc5m</td>\n",
       "      <td>1</td>\n",
       "      <td>Yeah that's possible but that also supports th...</td>\n",
       "      <td>politics</td>\n",
       "      <td>2025-02-26 11:36:39</td>\n",
       "      <td>1iy91zh</td>\n",
       "      <td>jimmydean885</td>\n",
       "      <td>0</td>\n",
       "      <td>1</td>\n",
       "      <td>0</td>\n",
       "      <td>...</td>\n",
       "      <td>494.0</td>\n",
       "      <td>292410.0</td>\n",
       "      <td>293520.0</td>\n",
       "      <td>13</td>\n",
       "      <td>NaN</td>\n",
       "      <td>Ukraine and US agree to terms of rare earth mi...</td>\n",
       "      <td>0.67</td>\n",
       "      <td>13</td>\n",
       "      <td>0</td>\n",
       "      <td>2025-02-25 23:21:50</td>\n",
       "    </tr>\n",
       "    <tr>\n",
       "      <th>1</th>\n",
       "      <td>mevb9vd</td>\n",
       "      <td>1</td>\n",
       "      <td>Hold on, destroying progress????   What progre...</td>\n",
       "      <td>climate</td>\n",
       "      <td>2025-02-26 11:36:06</td>\n",
       "      <td>1iyl91d</td>\n",
       "      <td>yeltneb77</td>\n",
       "      <td>0</td>\n",
       "      <td>1</td>\n",
       "      <td>0</td>\n",
       "      <td>...</td>\n",
       "      <td>1.0</td>\n",
       "      <td>966.0</td>\n",
       "      <td>967.0</td>\n",
       "      <td>8</td>\n",
       "      <td>NaN</td>\n",
       "      <td>The US is destroying climate progress. Here’s ...</td>\n",
       "      <td>1.00</td>\n",
       "      <td>8</td>\n",
       "      <td>0</td>\n",
       "      <td>2025-02-26 11:18:28</td>\n",
       "    </tr>\n",
       "    <tr>\n",
       "      <th>2</th>\n",
       "      <td>mevb93a</td>\n",
       "      <td>1</td>\n",
       "      <td>Fossil fuels are the reason energy prices are ...</td>\n",
       "      <td>unitedkingdom</td>\n",
       "      <td>2025-02-26 11:35:55</td>\n",
       "      <td>1iyibzg</td>\n",
       "      <td>playervlife</td>\n",
       "      <td>0</td>\n",
       "      <td>1</td>\n",
       "      <td>0</td>\n",
       "      <td>...</td>\n",
       "      <td>829.0</td>\n",
       "      <td>23933.0</td>\n",
       "      <td>24863.0</td>\n",
       "      <td>5</td>\n",
       "      <td>NaN</td>\n",
       "      <td>UK urged to act now on net zero – and skip two...</td>\n",
       "      <td>0.52</td>\n",
       "      <td>5</td>\n",
       "      <td>0</td>\n",
       "      <td>2025-02-26 07:46:11</td>\n",
       "    </tr>\n",
       "    <tr>\n",
       "      <th>3</th>\n",
       "      <td>mevb33e</td>\n",
       "      <td>1</td>\n",
       "      <td>I saw this best described in a YouTube short t...</td>\n",
       "      <td>changemyview</td>\n",
       "      <td>2025-02-26 11:34:31</td>\n",
       "      <td>1iwtph3</td>\n",
       "      <td>KingOfTheJellies</td>\n",
       "      <td>0</td>\n",
       "      <td>1</td>\n",
       "      <td>0</td>\n",
       "      <td>...</td>\n",
       "      <td>683.0</td>\n",
       "      <td>38854.0</td>\n",
       "      <td>39861.0</td>\n",
       "      <td>573</td>\n",
       "      <td>Let’s cut the nostalgia. My dad worked a summe...</td>\n",
       "      <td>CMV: Boomers had it 10x easier than Gen Z, and...</td>\n",
       "      <td>0.88</td>\n",
       "      <td>573</td>\n",
       "      <td>0</td>\n",
       "      <td>2025-02-24 04:31:09</td>\n",
       "    </tr>\n",
       "    <tr>\n",
       "      <th>4</th>\n",
       "      <td>mevb2ku</td>\n",
       "      <td>1</td>\n",
       "      <td>But this whole thing is corporate gaslighting ...</td>\n",
       "      <td>unitedkingdom</td>\n",
       "      <td>2025-02-26 11:34:24</td>\n",
       "      <td>1iyibzg</td>\n",
       "      <td>DigitalRoman486</td>\n",
       "      <td>0</td>\n",
       "      <td>1</td>\n",
       "      <td>0</td>\n",
       "      <td>...</td>\n",
       "      <td>6394.0</td>\n",
       "      <td>141970.0</td>\n",
       "      <td>148805.0</td>\n",
       "      <td>5</td>\n",
       "      <td>NaN</td>\n",
       "      <td>UK urged to act now on net zero – and skip two...</td>\n",
       "      <td>0.52</td>\n",
       "      <td>5</td>\n",
       "      <td>0</td>\n",
       "      <td>2025-02-26 07:46:11</td>\n",
       "    </tr>\n",
       "    <tr>\n",
       "      <th>...</th>\n",
       "      <td>...</td>\n",
       "      <td>...</td>\n",
       "      <td>...</td>\n",
       "      <td>...</td>\n",
       "      <td>...</td>\n",
       "      <td>...</td>\n",
       "      <td>...</td>\n",
       "      <td>...</td>\n",
       "      <td>...</td>\n",
       "      <td>...</td>\n",
       "      <td>...</td>\n",
       "      <td>...</td>\n",
       "      <td>...</td>\n",
       "      <td>...</td>\n",
       "      <td>...</td>\n",
       "      <td>...</td>\n",
       "      <td>...</td>\n",
       "      <td>...</td>\n",
       "      <td>...</td>\n",
       "      <td>...</td>\n",
       "      <td>...</td>\n",
       "    </tr>\n",
       "    <tr>\n",
       "      <th>1023233</th>\n",
       "      <td>dzyrmqu</td>\n",
       "      <td>2</td>\n",
       "      <td>Yes, I remember the hype that ended in nothing...</td>\n",
       "      <td>climate_science</td>\n",
       "      <td>2018-06-01 22:18:21</td>\n",
       "      <td>8ntlug</td>\n",
       "      <td>MissPinga</td>\n",
       "      <td>0</td>\n",
       "      <td>2</td>\n",
       "      <td>0</td>\n",
       "      <td>...</td>\n",
       "      <td>301.0</td>\n",
       "      <td>3516.0</td>\n",
       "      <td>3817.0</td>\n",
       "      <td>19</td>\n",
       "      <td>If algae is responsible for cleaning our air m...</td>\n",
       "      <td>Why dont we farm algae on a large scale to red...</td>\n",
       "      <td>0.96</td>\n",
       "      <td>19</td>\n",
       "      <td>0</td>\n",
       "      <td>2018-06-01 17:09:16</td>\n",
       "    </tr>\n",
       "    <tr>\n",
       "      <th>1023234</th>\n",
       "      <td>dzyf2d7</td>\n",
       "      <td>2</td>\n",
       "      <td>There were a [lot of people who lost a lot of ...</td>\n",
       "      <td>climate_science</td>\n",
       "      <td>2018-06-01 18:58:56</td>\n",
       "      <td>8ntlug</td>\n",
       "      <td>silence7</td>\n",
       "      <td>0</td>\n",
       "      <td>2</td>\n",
       "      <td>0</td>\n",
       "      <td>...</td>\n",
       "      <td>1184736.0</td>\n",
       "      <td>259884.0</td>\n",
       "      <td>1469188.0</td>\n",
       "      <td>19</td>\n",
       "      <td>If algae is responsible for cleaning our air m...</td>\n",
       "      <td>Why dont we farm algae on a large scale to red...</td>\n",
       "      <td>0.96</td>\n",
       "      <td>19</td>\n",
       "      <td>0</td>\n",
       "      <td>2018-06-01 17:09:16</td>\n",
       "    </tr>\n",
       "    <tr>\n",
       "      <th>1023235</th>\n",
       "      <td>dzyesw9</td>\n",
       "      <td>1</td>\n",
       "      <td>Well, it can be used as a bio fuel. This is an...</td>\n",
       "      <td>climate_science</td>\n",
       "      <td>2018-06-01 18:55:08</td>\n",
       "      <td>8ntlug</td>\n",
       "      <td>dano1066</td>\n",
       "      <td>0</td>\n",
       "      <td>1</td>\n",
       "      <td>0</td>\n",
       "      <td>...</td>\n",
       "      <td>12834.0</td>\n",
       "      <td>184926.0</td>\n",
       "      <td>198366.0</td>\n",
       "      <td>19</td>\n",
       "      <td>If algae is responsible for cleaning our air m...</td>\n",
       "      <td>Why dont we farm algae on a large scale to red...</td>\n",
       "      <td>0.96</td>\n",
       "      <td>19</td>\n",
       "      <td>0</td>\n",
       "      <td>2018-06-01 17:09:16</td>\n",
       "    </tr>\n",
       "    <tr>\n",
       "      <th>1023236</th>\n",
       "      <td>dzybxzq</td>\n",
       "      <td>5</td>\n",
       "      <td>There's no money in algae</td>\n",
       "      <td>climate_science</td>\n",
       "      <td>2018-06-01 18:13:20</td>\n",
       "      <td>8ntlug</td>\n",
       "      <td>ZippymcOswald</td>\n",
       "      <td>0</td>\n",
       "      <td>5</td>\n",
       "      <td>0</td>\n",
       "      <td>...</td>\n",
       "      <td>39918.0</td>\n",
       "      <td>26950.0</td>\n",
       "      <td>67462.0</td>\n",
       "      <td>19</td>\n",
       "      <td>If algae is responsible for cleaning our air m...</td>\n",
       "      <td>Why dont we farm algae on a large scale to red...</td>\n",
       "      <td>0.96</td>\n",
       "      <td>19</td>\n",
       "      <td>0</td>\n",
       "      <td>2018-06-01 17:09:16</td>\n",
       "    </tr>\n",
       "    <tr>\n",
       "      <th>1023237</th>\n",
       "      <td>dzwuxst</td>\n",
       "      <td>2</td>\n",
       "      <td>It is a greenhouse gas in the stratosphere as ...</td>\n",
       "      <td>climate_science</td>\n",
       "      <td>2018-06-01 00:40:15</td>\n",
       "      <td>8nmugq</td>\n",
       "      <td>[deleted]</td>\n",
       "      <td>0</td>\n",
       "      <td>2</td>\n",
       "      <td>0</td>\n",
       "      <td>...</td>\n",
       "      <td>0.0</td>\n",
       "      <td>0.0</td>\n",
       "      <td>0.0</td>\n",
       "      <td>7</td>\n",
       "      <td>I know almost nothing about climate science \\(...</td>\n",
       "      <td>Is stratospheric ozone (the ozone layer) a gre...</td>\n",
       "      <td>0.79</td>\n",
       "      <td>7</td>\n",
       "      <td>0</td>\n",
       "      <td>2018-05-31 22:51:17</td>\n",
       "    </tr>\n",
       "  </tbody>\n",
       "</table>\n",
       "<p>1023238 rows × 24 columns</p>\n",
       "</div>"
      ],
      "text/plain": [
       "        comment_id  score                                          self_text  \\\n",
       "0          mevbc5m      1  Yeah that's possible but that also supports th...   \n",
       "1          mevb9vd      1  Hold on, destroying progress????   What progre...   \n",
       "2          mevb93a      1  Fossil fuels are the reason energy prices are ...   \n",
       "3          mevb33e      1  I saw this best described in a YouTube short t...   \n",
       "4          mevb2ku      1  But this whole thing is corporate gaslighting ...   \n",
       "...            ...    ...                                                ...   \n",
       "1023233    dzyrmqu      2  Yes, I remember the hype that ended in nothing...   \n",
       "1023234    dzyf2d7      2  There were a [lot of people who lost a lot of ...   \n",
       "1023235    dzyesw9      1  Well, it can be used as a bio fuel. This is an...   \n",
       "1023236    dzybxzq      5                          There's no money in algae   \n",
       "1023237    dzwuxst      2  It is a greenhouse gas in the stratosphere as ...   \n",
       "\n",
       "               subreddit         created_time  post_id       author_name  \\\n",
       "0               politics  2025-02-26 11:36:39  1iy91zh      jimmydean885   \n",
       "1                climate  2025-02-26 11:36:06  1iyl91d         yeltneb77   \n",
       "2          unitedkingdom  2025-02-26 11:35:55  1iyibzg       playervlife   \n",
       "3           changemyview  2025-02-26 11:34:31  1iwtph3  KingOfTheJellies   \n",
       "4          unitedkingdom  2025-02-26 11:34:24  1iyibzg   DigitalRoman486   \n",
       "...                  ...                  ...      ...               ...   \n",
       "1023233  climate_science  2018-06-01 22:18:21   8ntlug         MissPinga   \n",
       "1023234  climate_science  2018-06-01 18:58:56   8ntlug          silence7   \n",
       "1023235  climate_science  2018-06-01 18:55:08   8ntlug          dano1066   \n",
       "1023236  climate_science  2018-06-01 18:13:20   8ntlug     ZippymcOswald   \n",
       "1023237  climate_science  2018-06-01 00:40:15   8nmugq         [deleted]   \n",
       "\n",
       "         controversiality  ups  downs  ... user_link_karma user_comment_karma  \\\n",
       "0                       0    1      0  ...           494.0           292410.0   \n",
       "1                       0    1      0  ...             1.0              966.0   \n",
       "2                       0    1      0  ...           829.0            23933.0   \n",
       "3                       0    1      0  ...           683.0            38854.0   \n",
       "4                       0    1      0  ...          6394.0           141970.0   \n",
       "...                   ...  ...    ...  ...             ...                ...   \n",
       "1023233                 0    2      0  ...           301.0             3516.0   \n",
       "1023234                 0    2      0  ...       1184736.0           259884.0   \n",
       "1023235                 0    1      0  ...         12834.0           184926.0   \n",
       "1023236                 0    5      0  ...         39918.0            26950.0   \n",
       "1023237                 0    2      0  ...             0.0                0.0   \n",
       "\n",
       "         user_total_karma  post_score  \\\n",
       "0                293520.0          13   \n",
       "1                   967.0           8   \n",
       "2                 24863.0           5   \n",
       "3                 39861.0         573   \n",
       "4                148805.0           5   \n",
       "...                   ...         ...   \n",
       "1023233            3817.0          19   \n",
       "1023234         1469188.0          19   \n",
       "1023235          198366.0          19   \n",
       "1023236           67462.0          19   \n",
       "1023237               0.0           7   \n",
       "\n",
       "                                            post_self_text  \\\n",
       "0                                                      NaN   \n",
       "1                                                      NaN   \n",
       "2                                                      NaN   \n",
       "3        Let’s cut the nostalgia. My dad worked a summe...   \n",
       "4                                                      NaN   \n",
       "...                                                    ...   \n",
       "1023233  If algae is responsible for cleaning our air m...   \n",
       "1023234  If algae is responsible for cleaning our air m...   \n",
       "1023235  If algae is responsible for cleaning our air m...   \n",
       "1023236  If algae is responsible for cleaning our air m...   \n",
       "1023237  I know almost nothing about climate science \\(...   \n",
       "\n",
       "                                                post_title  post_upvote_ratio  \\\n",
       "0        Ukraine and US agree to terms of rare earth mi...               0.67   \n",
       "1        The US is destroying climate progress. Here’s ...               1.00   \n",
       "2        UK urged to act now on net zero – and skip two...               0.52   \n",
       "3        CMV: Boomers had it 10x easier than Gen Z, and...               0.88   \n",
       "4        UK urged to act now on net zero – and skip two...               0.52   \n",
       "...                                                    ...                ...   \n",
       "1023233  Why dont we farm algae on a large scale to red...               0.96   \n",
       "1023234  Why dont we farm algae on a large scale to red...               0.96   \n",
       "1023235  Why dont we farm algae on a large scale to red...               0.96   \n",
       "1023236  Why dont we farm algae on a large scale to red...               0.96   \n",
       "1023237  Is stratospheric ozone (the ozone layer) a gre...               0.79   \n",
       "\n",
       "         post_thumbs_ups post_total_awards_received    post_created_time  \n",
       "0                     13                          0  2025-02-25 23:21:50  \n",
       "1                      8                          0  2025-02-26 11:18:28  \n",
       "2                      5                          0  2025-02-26 07:46:11  \n",
       "3                    573                          0  2025-02-24 04:31:09  \n",
       "4                      5                          0  2025-02-26 07:46:11  \n",
       "...                  ...                        ...                  ...  \n",
       "1023233               19                          0  2018-06-01 17:09:16  \n",
       "1023234               19                          0  2018-06-01 17:09:16  \n",
       "1023235               19                          0  2018-06-01 17:09:16  \n",
       "1023236               19                          0  2018-06-01 17:09:16  \n",
       "1023237                7                          0  2018-05-31 22:51:17  \n",
       "\n",
       "[1023238 rows x 24 columns]"
      ]
     },
     "execution_count": 16,
     "metadata": {},
     "output_type": "execute_result"
    }
   ],
   "source": [
    "opinions = pd.read_csv('data/reddit_opinion_climate_change.csv')\n",
    "opinions"
   ]
  },
  {
   "cell_type": "code",
   "execution_count": null,
   "metadata": {},
   "outputs": [],
   "source": []
  },
  {
   "cell_type": "markdown",
   "metadata": {},
   "source": [
    "#### Citations:\n",
    "\n",
    "\n"
   ]
  },
  {
   "cell_type": "code",
   "execution_count": null,
   "metadata": {},
   "outputs": [],
   "source": []
  },
  {
   "cell_type": "code",
   "execution_count": null,
   "metadata": {},
   "outputs": [],
   "source": []
  }
 ],
 "metadata": {
  "kernelspec": {
   "display_name": "Python 3",
   "language": "python",
   "name": "python3"
  },
  "language_info": {
   "codemirror_mode": {
    "name": "ipython",
    "version": 3
   },
   "file_extension": ".py",
   "mimetype": "text/x-python",
   "name": "python",
   "nbconvert_exporter": "python",
   "pygments_lexer": "ipython3",
   "version": "3.10.1"
  }
 },
 "nbformat": 4,
 "nbformat_minor": 2
}
